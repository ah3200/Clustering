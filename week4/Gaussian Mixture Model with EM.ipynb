{
 "cells": [
  {
   "cell_type": "code",
   "execution_count": 1,
   "metadata": {
    "collapsed": true
   },
   "outputs": [],
   "source": [
    "import pandas as pd\n",
    "import numpy as np"
   ]
  },
  {
   "cell_type": "markdown",
   "metadata": {},
   "source": [
    "## Implementing the EM algorithm for Gaussian mixture models"
   ]
  },
  {
   "cell_type": "markdown",
   "metadata": {},
   "source": [
    "In this section, you will implement the EM algorithm. We will take the following steps:\n",
    "\n",
    "- Provide a log likelihood function for this model.\n",
    "- Implement the EM algorithm.\n",
    "- Create some synthetic data.\n",
    "- Visualize the progress of the parameters during the course of running EM.\n",
    "- Visualize the convergence of the model."
   ]
  },
  {
   "cell_type": "markdown",
   "metadata": {},
   "source": [
    "### Log likelihood \n",
    "We provide a function to calculate log likelihood for mixture of Gaussians. The log likelihood quantifies the probability of observing a given set of data under a particular setting of the parameters in our model. We will use this to assess convergence of our EM algorithm; specifically, we will keep looping through EM update steps until the log likehood ceases to increase at a certain rate."
   ]
  },
  {
   "cell_type": "code",
   "execution_count": 2,
   "metadata": {
    "collapsed": true
   },
   "outputs": [],
   "source": [
    "def log_sum_exp(Z):\n",
    "    \"\"\" Compute log(\\sum_i exp(Z_i)) for some array Z.\"\"\"\n",
    "    return np.max(Z) + np.log(np.sum(np.exp(Z - np.max(Z))))\n",
    "\n",
    "def loglikelihood(data, weights, means, covs):\n",
    "    \"\"\" Compute the loglikelihood of the data for a Gaussian mixture model with the given parameters. \"\"\"\n",
    "    num_clusters = len(means)\n",
    "    num_dim = len(data[0])\n",
    "    \n",
    "    ll = 0\n",
    "    for d in data:\n",
    "        \n",
    "        Z = np.zeros(num_clusters)\n",
    "        for k in range(num_clusters):\n",
    "            \n",
    "            # Compute (x-mu)^T * Sigma^{-1} * (x-mu)\n",
    "            delta = np.array(d) - means[k]\n",
    "            exponent_term = np.dot(delta.T, np.dot(np.linalg.inv(covs[k]), delta))\n",
    "            \n",
    "            # Compute loglikelihood contribution for this data point and this cluster\n",
    "            Z[k] += np.log(weights[k])\n",
    "            Z[k] -= 1/2. * (num_dim * np.log(2*np.pi) + np.log(np.linalg.det(covs[k])) + exponent_term)\n",
    "            \n",
    "        # Increment loglikelihood contribution of this data point across all clusters\n",
    "        ll += log_sum_exp(Z)\n",
    "        \n",
    "    return ll"
   ]
  },
  {
   "cell_type": "markdown",
   "metadata": {},
   "source": [
    "### E-step: assign cluster responsibilities, given current parameters\n",
    "\n",
    "The first step in the EM algorithm is to compute cluster responsibilities. Let $r_{ik}$ denote the responsibility of cluster $k$ for data point $i$. Note that cluster responsibilities are fractional parts: Cluster responsibilities for a single data point $i$ should sum to 1.\n",
    "$$\n",
    "r_{i1} + r_{i2} + \\ldots + r_{iK} = 1\n",
    "$$\n",
    "\n",
    "To figure how much a cluster is responsible for a given data point, we compute the likelihood of the data point under the  particular cluster assignment, multiplied by the weight of the cluster. For data point $i$ and cluster $k$, this quantity is\n",
    "$$\n",
    "r_{ik} \\propto \\pi_k N(x_i | \\mu_k, \\Sigma_k)\n",
    "$$\n",
    "where $N(x_i | \\mu_k, \\Sigma_k)$ is the Gaussian distribution for cluster $k$ (with mean $\\mu_k$ and covariance $\\Sigma_k$).\n",
    "\n",
    "We used $\\propto$ because the quantity $N(x_i | \\mu_k, \\Sigma_k)$ is not yet the responsibility we want. To ensure that all responsibilities over each data point add up to 1, we add the normalization constant in the denominator:\n",
    "$$\n",
    "r_{ik} = \\frac{\\pi_k N(x_i | \\mu_k, \\Sigma_k)}{\\sum_{k=1}^{K} \\pi_k N(x_i | \\mu_k, \\Sigma_k)}.\n",
    "$$\n",
    "\n",
    "Complete the following function that computes $r_{ik}$ for all data points $i$ and clusters $k$."
   ]
  },
  {
   "cell_type": "code",
   "execution_count": 3,
   "metadata": {
    "collapsed": true
   },
   "outputs": [],
   "source": [
    "from scipy.stats import multivariate_normal\n",
    "\n",
    "def compute_responsibilities(data, weights, means, covariances):\n",
    "    '''E-step: compute responsibilities, given the current parameters'''\n",
    "    num_data = len(data)\n",
    "    num_clusters = len(means)\n",
    "    resp = np.zeros((num_data, num_clusters))\n",
    "    \n",
    "    # Update resp matrix so that resp[i,k] is the responsibility of cluster k for data point i.\n",
    "    # Hint: To compute likelihood of seeing data point i given cluster k, use multivariate_normal.pdf.\n",
    "    for i in range(num_data):\n",
    "        for k in range(num_clusters):\n",
    "            # YOUR CODE HERE\n",
    "            resp[i, k] = multivariate_normal.pdf(data[i], mean=means[k], cov=covariances[k])*weights[k]\n",
    "    \n",
    "    # Add up responsibilities over each data point and normalize\n",
    "    row_sums = resp.sum(axis=1)[:, np.newaxis]\n",
    "    resp = resp / row_sums\n",
    "    \n",
    "    return resp"
   ]
  },
  {
   "cell_type": "markdown",
   "metadata": {},
   "source": [
    "##### Checkpoint"
   ]
  },
  {
   "cell_type": "code",
   "execution_count": 4,
   "metadata": {
    "collapsed": false
   },
   "outputs": [
    {
     "name": "stdout",
     "output_type": "stream",
     "text": [
      "Checkpoint passed!\n"
     ]
    }
   ],
   "source": [
    "resp = compute_responsibilities(data=np.array([[1.,2.],[-1.,-2.]]), weights=np.array([0.3, 0.7]),\n",
    "                                means=[np.array([0.,0.]), np.array([1.,1.])],\n",
    "                                covariances=[np.array([[1.5, 0.],[0.,2.5]]), np.array([[1.,1.],[1.,2.]])])\n",
    "\n",
    "if resp.shape==(2,2) and np.allclose(resp, np.array([[0.10512733, 0.89487267], [0.46468164, 0.53531836]])):\n",
    "    print 'Checkpoint passed!'\n",
    "else:\n",
    "    print 'Check your code again.'"
   ]
  },
  {
   "cell_type": "code",
   "execution_count": 5,
   "metadata": {
    "collapsed": false
   },
   "outputs": [
    {
     "data": {
      "text/plain": [
       "array([[ 0.10512733,  0.89487267],\n",
       "       [ 0.46468164,  0.53531836]])"
      ]
     },
     "execution_count": 5,
     "metadata": {},
     "output_type": "execute_result"
    }
   ],
   "source": [
    "resp"
   ]
  },
  {
   "cell_type": "markdown",
   "metadata": {},
   "source": [
    "### M-step: Update parameters, given current cluster responsibilities\n",
    "Once the cluster responsibilities are computed, we update the parameters (weights, means, and covariances) associated with the clusters.\n",
    "\n",
    "**Computing soft counts**. Before updating the parameters, we first compute what is known as \"soft counts\". The soft count of a cluster is the sum of all cluster responsibilities for that cluster:\n",
    "$$\n",
    "N^{\\text{soft}}_k = r_{1k} + r_{2k} + \\ldots + r_{Nk} = \\sum_{i=1}^{N} r_{ik}\n",
    "$$\n",
    "\n",
    "where we loop over data points. Note that, unlike k-means, we must loop over every single data point in the dataset. This is because all clusters are represented in all data points, to a varying degree.\n",
    "\n",
    "We provide the function for computing the soft counts:"
   ]
  },
  {
   "cell_type": "code",
   "execution_count": 6,
   "metadata": {
    "collapsed": true
   },
   "outputs": [],
   "source": [
    "def compute_soft_counts(resp):\n",
    "    # Compute the total responsibility assigned to each cluster, which will be useful when \n",
    "    # implementing M-steps below. In the lectures this is called N^{soft}\n",
    "    counts = np.sum(resp, axis=0)\n",
    "    return counts"
   ]
  },
  {
   "cell_type": "code",
   "execution_count": 7,
   "metadata": {
    "collapsed": false
   },
   "outputs": [
    {
     "data": {
      "text/plain": [
       "array([ 0.56980897,  1.43019103])"
      ]
     },
     "execution_count": 7,
     "metadata": {},
     "output_type": "execute_result"
    }
   ],
   "source": [
    "compute_soft_counts(resp)"
   ]
  },
  {
   "cell_type": "markdown",
   "metadata": {},
   "source": [
    "**Updating weights.** The cluster weights show us how much each cluster is represented over all data points. The weight of cluster $k$ is given by the ratio of the soft count $N^{\\text{soft}}_{k}$ to the total number of data points $N$:\n",
    "$$\n",
    "\\hat{\\pi}_k = \\frac{N^{\\text{soft}}_{k}}{N}\n",
    "$$\n",
    "Notice that $N$ is equal to the sum over the soft counts $N^{\\text{soft}}_{k}$ of all clusters.\n",
    "\n",
    "Complete the following function:"
   ]
  },
  {
   "cell_type": "code",
   "execution_count": 8,
   "metadata": {
    "collapsed": true
   },
   "outputs": [],
   "source": [
    "def compute_weights(counts):\n",
    "    num_clusters = len(counts)\n",
    "    weights = [0.] * num_clusters\n",
    "    \n",
    "    for k in range(num_clusters):\n",
    "        # Update the weight for cluster k using the M-step update rule for the cluster weight, \\hat{\\pi}_k.\n",
    "        # HINT: compute # of data points by summing soft counts.\n",
    "        # YOUR CODE HERE\n",
    "        weights[k] = counts[k]/counts.sum()\n",
    "\n",
    "    return weights"
   ]
  },
  {
   "cell_type": "markdown",
   "metadata": {},
   "source": [
    "**Checkpoint**."
   ]
  },
  {
   "cell_type": "code",
   "execution_count": 9,
   "metadata": {
    "collapsed": false
   },
   "outputs": [
    {
     "name": "stdout",
     "output_type": "stream",
     "text": [
      "[ 0.83714598  2.16285402]\n",
      "[0.27904865942515705, 0.720951340574843]\n",
      "Checkpoint passed!\n"
     ]
    }
   ],
   "source": [
    "resp = compute_responsibilities(data=np.array([[1.,2.],[-1.,-2.],[0,0]]), weights=np.array([0.3, 0.7]),\n",
    "                                means=[np.array([0.,0.]), np.array([1.,1.])],\n",
    "                                covariances=[np.array([[1.5, 0.],[0.,2.5]]), np.array([[1.,1.],[1.,2.]])])\n",
    "counts = compute_soft_counts(resp)\n",
    "weights = compute_weights(counts)\n",
    "\n",
    "print counts\n",
    "print weights\n",
    "\n",
    "if np.allclose(weights, [0.27904865942515705, 0.720951340574843]):\n",
    "    print 'Checkpoint passed!'\n",
    "else:\n",
    "    print 'Check your code again.'"
   ]
  },
  {
   "cell_type": "code",
   "execution_count": 10,
   "metadata": {
    "collapsed": false
   },
   "outputs": [
    {
     "data": {
      "text/plain": [
       "array([[ 0.10512733,  0.89487267],\n",
       "       [ 0.46468164,  0.53531836],\n",
       "       [ 0.26733701,  0.73266299]])"
      ]
     },
     "execution_count": 10,
     "metadata": {},
     "output_type": "execute_result"
    }
   ],
   "source": [
    "resp"
   ]
  },
  {
   "cell_type": "code",
   "execution_count": 11,
   "metadata": {
    "collapsed": false
   },
   "outputs": [
    {
     "data": {
      "text/plain": [
       "array([ 0.83714598,  2.16285402])"
      ]
     },
     "execution_count": 11,
     "metadata": {},
     "output_type": "execute_result"
    }
   ],
   "source": [
    "compute_soft_counts(resp)"
   ]
  },
  {
   "cell_type": "markdown",
   "metadata": {},
   "source": [
    "**Updating means**. The mean of each cluster is set to the [weighted average](https://en.wikipedia.org/wiki/Weighted_arithmetic_mean) of all data points, weighted by the cluster responsibilities:\n",
    "$$\n",
    "\\hat{\\mu}_k = \\frac{1}{N_k^{\\text{soft}}} \\sum_{i=1}^N r_{ik}x_i\n",
    "$$\n",
    "\n",
    "Complete the following function:"
   ]
  },
  {
   "cell_type": "code",
   "execution_count": 12,
   "metadata": {
    "collapsed": true
   },
   "outputs": [],
   "source": [
    "def compute_means(data, resp, counts):\n",
    "    num_clusters = len(counts)\n",
    "    num_data = len(data)\n",
    "    means = [np.zeros(len(data[0]))] * num_clusters\n",
    "    \n",
    "    for k in range(num_clusters):\n",
    "        # Update means for cluster k using the M-step update rule for the mean variables.\n",
    "        # This will assign the variable means[k] to be our estimate for \\hat{\\mu}_k.\n",
    "        weighted_sum = 0.\n",
    "        for i in range(num_data):\n",
    "            # YOUR CODE HERE\n",
    "            weighted_sum += resp[i,k]*data[i]\n",
    "        # YOUR CODE HERE\n",
    "        means[k] = weighted_sum / counts[k]\n",
    "\n",
    "    return means"
   ]
  },
  {
   "cell_type": "markdown",
   "metadata": {},
   "source": [
    "**Checkpoint**."
   ]
  },
  {
   "cell_type": "code",
   "execution_count": 13,
   "metadata": {
    "collapsed": false
   },
   "outputs": [
    {
     "name": "stdout",
     "output_type": "stream",
     "text": [
      "Checkpoint passed!\n"
     ]
    }
   ],
   "source": [
    "data_tmp = np.array([[1.,2.],[-1.,-2.]])\n",
    "resp = compute_responsibilities(data=data_tmp, weights=np.array([0.3, 0.7]),\n",
    "                                means=[np.array([0.,0.]), np.array([1.,1.])],\n",
    "                                covariances=[np.array([[1.5, 0.],[0.,2.5]]), np.array([[1.,1.],[1.,2.]])])\n",
    "counts = compute_soft_counts(resp)\n",
    "means = compute_means(data_tmp, resp, counts)\n",
    "\n",
    "if np.allclose(means, np.array([[-0.6310085, -1.262017], [0.25140299, 0.50280599]])):\n",
    "    print 'Checkpoint passed!'\n",
    "else:\n",
    "    print 'Check your code again.'"
   ]
  },
  {
   "cell_type": "code",
   "execution_count": 14,
   "metadata": {
    "collapsed": false
   },
   "outputs": [
    {
     "data": {
      "text/plain": [
       "[array([-0.6310085, -1.262017 ]), array([ 0.25140299,  0.50280599])]"
      ]
     },
     "execution_count": 14,
     "metadata": {},
     "output_type": "execute_result"
    }
   ],
   "source": [
    "means"
   ]
  },
  {
   "cell_type": "markdown",
   "metadata": {},
   "source": [
    "**Updating covariances**.  The covariance of each cluster is set to the weighted average of all [outer products](https://people.duke.edu/~ccc14/sta-663/LinearAlgebraReview.html), weighted by the cluster responsibilities:\n",
    "$$\n",
    "\\hat{\\Sigma}_k = \\frac{1}{N^{\\text{soft}}_k}\\sum_{i=1}^N r_{ik} (x_i - \\hat{\\mu}_k)(x_i - \\hat{\\mu}_k)^T\n",
    "$$\n",
    "\n",
    "The \"outer product\" in this context refers to the matrix product\n",
    "$$\n",
    "(x_i - \\hat{\\mu}_k)(x_i - \\hat{\\mu}_k)^T.\n",
    "$$\n",
    "Letting $(x_i - \\hat{\\mu}_k)$ to be $d \\times 1$ column vector, this product is a $d \\times d$ matrix. Taking the weighted average of all outer products gives us the covariance matrix, which is also $d \\times d$.\n",
    "\n",
    "Complete the following function:"
   ]
  },
  {
   "cell_type": "code",
   "execution_count": 15,
   "metadata": {
    "collapsed": true
   },
   "outputs": [],
   "source": [
    "def compute_covariances(data, resp, counts, means):\n",
    "    num_clusters = len(counts)\n",
    "    num_dim = len(data[0])\n",
    "    num_data = len(data)\n",
    "    covariances = [np.zeros((num_dim,num_dim))] * num_clusters\n",
    "    \n",
    "    for k in range(num_clusters):\n",
    "        # Update covariances for cluster k using the M-step update rule for covariance variables.\n",
    "        # This will assign the variable covariances[k] to be the estimate for \\hat{\\Sigma}_k.\n",
    "        weighted_sum = np.zeros((num_dim, num_dim))\n",
    "        for i in range(num_data):\n",
    "            # YOUR CODE HERE (Hint: Use np.outer on the data[i] and this cluster's mean)\n",
    "            weighted_sum += np.outer((data[i]-means[k]),(data[i]-means[k]).T) * resp[i,k]\n",
    "        # YOUR CODE HERE\n",
    "        covariances[k] = weighted_sum / counts[k]\n",
    "\n",
    "    return covariances"
   ]
  },
  {
   "cell_type": "markdown",
   "metadata": {},
   "source": [
    "**Checkpoint**."
   ]
  },
  {
   "cell_type": "code",
   "execution_count": 16,
   "metadata": {
    "collapsed": false
   },
   "outputs": [
    {
     "name": "stdout",
     "output_type": "stream",
     "text": [
      "Checkpoint passed!\n"
     ]
    }
   ],
   "source": [
    "data_tmp = np.array([[1.,2.],[-1.,-2.]])\n",
    "resp = compute_responsibilities(data=data_tmp, weights=np.array([0.3, 0.7]),\n",
    "                                means=[np.array([0.,0.]), np.array([1.,1.])],\n",
    "                                covariances=[np.array([[1.5, 0.],[0.,2.5]]), np.array([[1.,1.],[1.,2.]])])\n",
    "counts = compute_soft_counts(resp)\n",
    "means = compute_means(data_tmp, resp, counts)\n",
    "covariances = compute_covariances(data_tmp, resp, counts, means)\n",
    "\n",
    "if np.allclose(covariances[0], np.array([[0.60182827, 1.20365655], [1.20365655, 2.4073131]])) and \\\n",
    "    np.allclose(covariances[1], np.array([[ 0.93679654, 1.87359307], [1.87359307, 3.74718614]])):\n",
    "    print 'Checkpoint passed!'\n",
    "else:\n",
    "    print 'Check your code again.'"
   ]
  },
  {
   "cell_type": "markdown",
   "metadata": {},
   "source": [
    "### The EM algorithm"
   ]
  },
  {
   "cell_type": "code",
   "execution_count": 17,
   "metadata": {
    "collapsed": true
   },
   "outputs": [],
   "source": [
    "def EM(data, init_means, init_covariances, init_weights, maxiter=1000, thresh=1e-4):\n",
    "    \n",
    "    # Make copies of initial parameters, which we will update during each iteration\n",
    "    means = init_means[:]\n",
    "    covariances = init_covariances[:]\n",
    "    weights = init_weights[:]\n",
    "    \n",
    "    # Infer dimensions of dataset and the number of clusters\n",
    "    num_data = len(data)\n",
    "    num_dim = len(data[0])\n",
    "    num_clusters = len(means)\n",
    "    \n",
    "    # Initialize some useful variables\n",
    "    resp = np.zeros((num_data, num_clusters))\n",
    "    ll = loglikelihood(data, weights, means, covariances)\n",
    "    ll_trace = [ll]\n",
    "    \n",
    "    for it in range(maxiter):\n",
    "        if it % 5 == 0:\n",
    "            print(\"Iteration %s\" % it)\n",
    "        \n",
    "        # E-step: compute responsibilities\n",
    "        resp = compute_responsibilities(data, weights, means, covariances)\n",
    "\n",
    "        # M-step\n",
    "        # Compute the total responsibility assigned to each cluster, which will be useful when \n",
    "        # implementing M-steps below. In the lectures this is called N^{soft}\n",
    "        counts = compute_soft_counts(resp)\n",
    "        \n",
    "        # Update the weight for cluster k using the M-step update rule for the cluster weight, \\hat{\\pi}_k.\n",
    "        # YOUR CODE HERE\n",
    "        weights = compute_weights(counts)\n",
    "        \n",
    "        # Update means for cluster k using the M-step update rule for the mean variables.\n",
    "        # This will assign the variable means[k] to be our estimate for \\hat{\\mu}_k.\n",
    "        # YOUR CODE HERE\n",
    "        means = compute_means(data, resp, counts)\n",
    "        \n",
    "        # Update covariances for cluster k using the M-step update rule for covariance variables.\n",
    "        # This will assign the variable covariances[k] to be the estimate for \\hat{\\Sigma}_k.\n",
    "        # YOUR CODE HERE\n",
    "        covariances = compute_covariances(data, resp, counts, means)\n",
    "        \n",
    "        # Compute the loglikelihood at this iteration\n",
    "        # YOUR CODE HERE\n",
    "        ll_latest = loglikelihood(data, weights, means, covariances)\n",
    "        ll_trace.append(ll_latest)\n",
    "        \n",
    "        # Check for convergence in log-likelihood and store\n",
    "        if (ll_latest - ll) < thresh and ll_latest > -np.inf:\n",
    "            break\n",
    "        ll = ll_latest\n",
    "    \n",
    "    if it % 5 != 0:\n",
    "        print(\"Iteration %s\" % it)\n",
    "    \n",
    "    out = {'weights': weights, 'means': means, 'covs': covariances, 'loglik': ll_trace, 'resp': resp}\n",
    "\n",
    "    return out"
   ]
  },
  {
   "cell_type": "markdown",
   "metadata": {},
   "source": [
    "### Testing the implementation on the simulated data\n",
    "\n",
    "To help us develop and test our implementation, we will generate some observations from a mixture of Gaussians and then run our EM algorithm to discover the mixture components. We'll begin with a function to generate the data, and a quick plot to visualize its output for a 2-dimensional mixture of three Gaussians.\n",
    "\n",
    "Now we will create a function to generate data from a mixture of Gaussians model. "
   ]
  },
  {
   "cell_type": "code",
   "execution_count": 18,
   "metadata": {
    "collapsed": true
   },
   "outputs": [],
   "source": [
    "def generate_MoG_data(num_data, means, covariances, weights):\n",
    "    \"\"\" Creates a list of data points \"\"\"\n",
    "    num_clusters = len(weights)\n",
    "    data = []\n",
    "    for i in range(num_data):\n",
    "        #  Use np.random.choice and weights to pick a cluster id greater than or equal to 0 and less than num_clusters.\n",
    "        k = np.random.choice(len(weights), 1, p=weights)[0]\n",
    "\n",
    "        # Use np.random.multivariate_normal to create data from this cluster\n",
    "        x = np.random.multivariate_normal(means[k], covariances[k])\n",
    "\n",
    "        data.append(x)\n",
    "    return data"
   ]
  },
  {
   "cell_type": "code",
   "execution_count": 19,
   "metadata": {
    "collapsed": true
   },
   "outputs": [],
   "source": [
    "# Model parameters\n",
    "init_means = [\n",
    "    [5, 0], # mean of cluster 1\n",
    "    [1, 1], # mean of cluster 2\n",
    "    [0, 5]  # mean of cluster 3\n",
    "]\n",
    "init_covariances = [\n",
    "    [[.5, 0.], [0, .5]], # covariance of cluster 1\n",
    "    [[.92, .38], [.38, .91]], # covariance of cluster 2\n",
    "    [[.5, 0.], [0, .5]]  # covariance of cluster 3\n",
    "]\n",
    "init_weights = [1/4., 1/2., 1/4.]  # weights of each cluster\n",
    "\n",
    "# Generate data\n",
    "np.random.seed(4)\n",
    "data = generate_MoG_data(100, init_means, init_covariances, init_weights)"
   ]
  },
  {
   "cell_type": "code",
   "execution_count": 20,
   "metadata": {
    "collapsed": false
   },
   "outputs": [
    {
     "data": {
      "image/png": "[encoded data removed]",
      "text/plain": [
       "<matplotlib.figure.Figure at 0x10d1abfd0>"
      ]
     },
     "metadata": {},
     "output_type": "display_data"
    }
   ],
   "source": [
    "import matplotlib.pyplot as plt \n",
    "%matplotlib inline\n",
    "\n",
    "plt.figure()\n",
    "d = np.vstack(data)\n",
    "plt.plot(d[:,0], d[:,1],'ko')\n",
    "plt.rcParams.update({'font.size':16})\n",
    "plt.tight_layout()"
   ]
  },
  {
   "cell_type": "code",
   "execution_count": 21,
   "metadata": {
    "collapsed": false
   },
   "outputs": [
    {
     "name": "stdout",
     "output_type": "stream",
     "text": [
      "Iteration 0\n",
      "Iteration 5\n",
      "Iteration 10\n",
      "Iteration 15\n",
      "Iteration 20\n",
      "Iteration 22\n"
     ]
    }
   ],
   "source": [
    "np.random.seed(4)\n",
    "\n",
    "# Initialization of parameters\n",
    "chosen = np.random.choice(len(data), 3, replace=False)\n",
    "initial_means = [data[x] for x in chosen]\n",
    "initial_covs = [np.cov(data, rowvar=0)] * 3\n",
    "initial_weights = [1/3.] * 3\n",
    "\n",
    "# Run EM \n",
    "results = EM(data, initial_means, initial_covs, initial_weights)"
   ]
  },
  {
   "cell_type": "markdown",
   "metadata": {},
   "source": [
    "**Quiz Question**: What is the weight that EM assigns to the first component after running the above codeblock?"
   ]
  },
  {
   "cell_type": "code",
   "execution_count": 22,
   "metadata": {
    "collapsed": false
   },
   "outputs": [
    {
     "data": {
      "text/plain": [
       "(0.30071023006098241,\n",
       " [0.30071023006098241, 0.17993710074247016, 0.51935266919654743])"
      ]
     },
     "execution_count": 22,
     "metadata": {},
     "output_type": "execute_result"
    }
   ],
   "source": [
    "results['weights'][0], results['weights']"
   ]
  },
  {
   "cell_type": "markdown",
   "metadata": {},
   "source": [
    "**Quiz Question**: Using the same set of results, obtain the mean that EM assigns the second component. What is the mean in the first dimension?"
   ]
  },
  {
   "cell_type": "code",
   "execution_count": 23,
   "metadata": {
    "collapsed": false
   },
   "outputs": [
    {
     "data": {
      "text/plain": [
       "(4.9423923529753555,\n",
       " [array([ 0.02138285,  4.947729  ]),\n",
       "  array([ 4.94239235,  0.31365311]),\n",
       "  array([ 1.08181125,  0.73903508])])"
      ]
     },
     "execution_count": 23,
     "metadata": {},
     "output_type": "execute_result"
    }
   ],
   "source": [
    "results['means'][1][0], results['means']"
   ]
  },
  {
   "cell_type": "markdown",
   "metadata": {},
   "source": [
    "**Quiz Question**: Using the same set of results, obtain the covariance that EM assigns the third component. What is the variance in the first dimension?"
   ]
  },
  {
   "cell_type": "code",
   "execution_count": 24,
   "metadata": {
    "collapsed": false
   },
   "outputs": [
    {
     "data": {
      "text/plain": [
       "array([[ 0.67114992,  0.33058965],\n",
       "       [ 0.33058965,  0.90429724]])"
      ]
     },
     "execution_count": 24,
     "metadata": {},
     "output_type": "execute_result"
    }
   ],
   "source": [
    "results['covs'][2]"
   ]
  },
  {
   "cell_type": "code",
   "execution_count": 25,
   "metadata": {
    "collapsed": false
   },
   "outputs": [
    {
     "data": {
      "text/plain": [
       "[array([[ 0.2932614 ,  0.05048455],\n",
       "        [ 0.05048455,  0.35281537]]), array([[ 0.3556437 , -0.01494875],\n",
       "        [-0.01494875,  0.66695025]]), array([[ 0.67114992,  0.33058965],\n",
       "        [ 0.33058965,  0.90429724]])]"
      ]
     },
     "execution_count": 25,
     "metadata": {},
     "output_type": "execute_result"
    }
   ],
   "source": [
    "results['covs']"
   ]
  },
  {
   "cell_type": "markdown",
   "metadata": {},
   "source": [
    "### Plot progress of parameters"
   ]
  },
  {
   "cell_type": "code",
   "execution_count": 26,
   "metadata": {
    "collapsed": true
   },
   "outputs": [],
   "source": [
    "import matplotlib.mlab as mlab\n",
    "def plot_contours(data, means, covs, title):\n",
    "    plt.figure()\n",
    "    plt.plot([x[0] for x in data], [y[1] for y in data],'ko') # data\n",
    "\n",
    "    delta = 0.025\n",
    "    k = len(means)\n",
    "    x = np.arange(-2.0, 7.0, delta)\n",
    "    y = np.arange(-2.0, 7.0, delta)\n",
    "    X, Y = np.meshgrid(x, y)\n",
    "    col = ['green', 'red', 'indigo']\n",
    "    for i in range(k):\n",
    "        mean = means[i]\n",
    "        cov = covs[i]\n",
    "        sigmax = np.sqrt(cov[0][0])\n",
    "        sigmay = np.sqrt(cov[1][1])\n",
    "        sigmaxy = cov[0][1]/(sigmax*sigmay)\n",
    "        Z = mlab.bivariate_normal(X, Y, sigmax, sigmay, mean[0], mean[1], sigmaxy)\n",
    "        plt.contour(X, Y, Z, colors = col[i])\n",
    "        plt.title(title)\n",
    "    plt.rcParams.update({'font.size':16})\n",
    "    plt.tight_layout()"
   ]
  },
  {
   "cell_type": "code",
   "execution_count": 27,
   "metadata": {
    "collapsed": false
   },
   "outputs": [
    {
     "name": "stderr",
     "output_type": "stream",
     "text": [
      "/usr/local/lib/python2.7/site-packages/matplotlib/collections.py:650: FutureWarning: elementwise comparison failed; returning scalar instead, but in the future will perform elementwise comparison\n",
      "  if self._edgecolors_original != str('face'):\n",
      "/usr/local/lib/python2.7/site-packages/matplotlib/collections.py:590: FutureWarning: elementwise comparison failed; returning scalar instead, but in the future will perform elementwise comparison\n",
      "  if self._edgecolors == str('face'):\n"
     ]
    },
    {
     "data": {
      "image/png": "[encoded data removed]",
      "text/plain": [
       "<matplotlib.figure.Figure at 0x10d40e910>"
      ]
     },
     "metadata": {},
     "output_type": "display_data"
    }
   ],
   "source": [
    "# Parameters after initialization\n",
    "plot_contours(data, initial_means, initial_covs, 'Initial clusters')"
   ]
  },
  {
   "cell_type": "code",
   "execution_count": 28,
   "metadata": {
    "collapsed": false
   },
   "outputs": [
    {
     "name": "stdout",
     "output_type": "stream",
     "text": [
      "Iteration 0\n",
      "Iteration 5\n",
      "Iteration 10\n",
      "Iteration 15\n",
      "Iteration 20\n",
      "Iteration 22\n"
     ]
    },
    {
     "data": {
      "image/png": "[encoded data removed]",
      "text/plain": [
       "<matplotlib.figure.Figure at 0x10dcd4390>"
      ]
     },
     "metadata": {},
     "output_type": "display_data"
    }
   ],
   "source": [
    "# Parameters after running EM to convergence\n",
    "results = EM(data, initial_means, initial_covs, initial_weights)\n",
    "plot_contours(data, results['means'], results['covs'], 'Final clusters')"
   ]
  },
  {
   "cell_type": "code",
   "execution_count": 29,
   "metadata": {
    "collapsed": false
   },
   "outputs": [
    {
     "name": "stdout",
     "output_type": "stream",
     "text": [
      "Iteration 0\n",
      "Iteration 5\n",
      "Iteration 10\n",
      "Iteration 11\n"
     ]
    },
    {
     "data": {
      "image/png": "[encoded data removed]",
      "text/plain": [
       "<matplotlib.figure.Figure at 0x10d3626d0>"
      ]
     },
     "metadata": {},
     "output_type": "display_data"
    }
   ],
   "source": [
    "# YOUR CODE HERE\n",
    "results = EM(data, initial_means, initial_covs, initial_weights, maxiter=12)\n",
    "\n",
    "plot_contours(data, results['means'], results['covs'], 'Clusters after 12 iterations')"
   ]
  },
  {
   "cell_type": "markdown",
   "metadata": {},
   "source": [
    "#### Plot Log-likelihood"
   ]
  },
  {
   "cell_type": "code",
   "execution_count": 30,
   "metadata": {
    "collapsed": false
   },
   "outputs": [
    {
     "name": "stdout",
     "output_type": "stream",
     "text": [
      "Iteration 0\n",
      "Iteration 5\n",
      "Iteration 10\n",
      "Iteration 15\n",
      "Iteration 20\n",
      "Iteration 22\n"
     ]
    }
   ],
   "source": [
    "results = EM(data, initial_means, initial_covs, initial_weights)\n",
    "\n",
    "# YOUR CODE HERE\n",
    "loglikelihoods = results['loglik']"
   ]
  },
  {
   "cell_type": "code",
   "execution_count": 31,
   "metadata": {
    "collapsed": false
   },
   "outputs": [
    {
     "data": {
      "image/png": "[encoded data removed]",
      "text/plain": [
       "<matplotlib.figure.Figure at 0x10dcf1990>"
      ]
     },
     "metadata": {},
     "output_type": "display_data"
    }
   ],
   "source": [
    "plt.plot(range(len(loglikelihoods)), loglikelihoods, linewidth=4)\n",
    "plt.xlabel('Iteration')\n",
    "plt.ylabel('Log-likelihood')\n",
    "plt.rcParams.update({'font.size':16})\n",
    "plt.tight_layout()"
   ]
  },
  {
   "cell_type": "markdown",
   "metadata": {
    "collapsed": true
   },
   "source": [
    "## Fitting a Gaussian mixture model for image data"
   ]
  },
  {
   "cell_type": "code",
   "execution_count": 44,
   "metadata": {
    "collapsed": true
   },
   "outputs": [],
   "source": [
    "from scipy.ndimage import imread"
   ]
  },
  {
   "cell_type": "code",
   "execution_count": 59,
   "metadata": {
    "collapsed": false
   },
   "outputs": [],
   "source": [
    "arr = imread(\"./images/cloudy_sky/ANd9GcQ-HRsM6J42Mc2BJaSFXbxIidQEep8bjhaHdn-xUCfw91f0MHtE.jpg\", mode='RGB')"
   ]
  },
  {
   "cell_type": "code",
   "execution_count": 60,
   "metadata": {
    "collapsed": false
   },
   "outputs": [
    {
     "data": {
      "text/plain": [
       "(128, 227, 3)"
      ]
     },
     "execution_count": 60,
     "metadata": {},
     "output_type": "execute_result"
    }
   ],
   "source": [
    "arr.shape"
   ]
  },
  {
   "cell_type": "code",
   "execution_count": 61,
   "metadata": {
    "collapsed": false
   },
   "outputs": [
    {
     "data": {
      "text/plain": [
       "array([149, 153, 154], dtype=uint8)"
      ]
     },
     "execution_count": 61,
     "metadata": {},
     "output_type": "execute_result"
    }
   ],
   "source": [
    "arr[20, 30]"
   ]
  },
  {
   "cell_type": "code",
   "execution_count": 62,
   "metadata": {
    "collapsed": true
   },
   "outputs": [],
   "source": [
    "r, g, b = np.mean(arr[:,:,0]/256.0), np.mean(arr[:,:,1]/256.0), np.mean(arr[:,:,2]/256.0)"
   ]
  },
  {
   "cell_type": "code",
   "execution_count": 63,
   "metadata": {
    "collapsed": false
   },
   "outputs": [
    {
     "data": {
      "text/plain": [
       "(0.52853595212692728, 0.53679828391726325, 0.54671797563325997)"
      ]
     },
     "execution_count": 63,
     "metadata": {},
     "output_type": "execute_result"
    }
   ],
   "source": [
    "r, g, b"
   ]
  },
  {
   "cell_type": "code",
   "execution_count": 64,
   "metadata": {
    "collapsed": false
   },
   "outputs": [
    {
     "ename": "ImportError",
     "evalue": "No module named graphlab",
     "output_type": "error",
     "traceback": [
      "\u001b[0;31m---------------------------------------------------------------------------\u001b[0m",
      "\u001b[0;31mImportError\u001b[0m                               Traceback (most recent call last)",
      "\u001b[0;32m<ipython-input-64-82d503cf6358>\u001b[0m in \u001b[0;36m<module>\u001b[0;34m()\u001b[0m\n\u001b[0;32m----> 1\u001b[0;31m \u001b[0;32mimport\u001b[0m \u001b[0mgraphlab\u001b[0m \u001b[0;32mas\u001b[0m \u001b[0mgl\u001b[0m\u001b[0;34m\u001b[0m\u001b[0m\n\u001b[0m\u001b[1;32m      2\u001b[0m \u001b[0mimages\u001b[0m \u001b[0;34m=\u001b[0m \u001b[0mgl\u001b[0m\u001b[0;34m.\u001b[0m\u001b[0mSFrame\u001b[0m\u001b[0;34m(\u001b[0m\u001b[0;34m'images.sf'\u001b[0m\u001b[0;34m)\u001b[0m\u001b[0;34m\u001b[0m\u001b[0m\n\u001b[1;32m      3\u001b[0m \u001b[0mgl\u001b[0m\u001b[0;34m.\u001b[0m\u001b[0mcanvas\u001b[0m\u001b[0;34m.\u001b[0m\u001b[0mset_target\u001b[0m\u001b[0;34m(\u001b[0m\u001b[0;34m'ipynb'\u001b[0m\u001b[0;34m)\u001b[0m\u001b[0;34m\u001b[0m\u001b[0m\n\u001b[1;32m      4\u001b[0m \u001b[0;32mimport\u001b[0m \u001b[0marray\u001b[0m\u001b[0;34m\u001b[0m\u001b[0m\n\u001b[1;32m      5\u001b[0m \u001b[0mimages\u001b[0m\u001b[0;34m[\u001b[0m\u001b[0;34m'rgb'\u001b[0m\u001b[0;34m]\u001b[0m \u001b[0;34m=\u001b[0m \u001b[0mimages\u001b[0m\u001b[0;34m.\u001b[0m\u001b[0mpack_columns\u001b[0m\u001b[0;34m(\u001b[0m\u001b[0;34m[\u001b[0m\u001b[0;34m'red'\u001b[0m\u001b[0;34m,\u001b[0m \u001b[0;34m'green'\u001b[0m\u001b[0;34m,\u001b[0m \u001b[0;34m'blue'\u001b[0m\u001b[0;34m]\u001b[0m\u001b[0;34m)\u001b[0m\u001b[0;34m[\u001b[0m\u001b[0;34m'X4'\u001b[0m\u001b[0;34m]\u001b[0m\u001b[0;34m\u001b[0m\u001b[0m\n",
      "\u001b[0;31mImportError\u001b[0m: No module named graphlab"
     ]
    }
   ],
   "source": [
    "import graphlab as gl\n",
    "images = gl.SFrame('images.sf')\n",
    "gl.canvas.set_target('ipynb')\n",
    "import array\n",
    "images['rgb'] = images.pack_columns(['red', 'green', 'blue'])['X4']\n",
    "images.show()"
   ]
  },
  {
   "cell_type": "code",
   "execution_count": null,
   "metadata": {
    "collapsed": true
   },
   "outputs": [],
   "source": []
  }
 ],
 "metadata": {
  "kernelspec": {
   "display_name": "Python 2",
   "language": "python",
   "name": "python2"
  },
  "language_info": {
   "codemirror_mode": {
    "name": "ipython",
    "version": 2
   },
   "file_extension": ".py",
   "mimetype": "text/x-python",
   "name": "python",
   "nbconvert_exporter": "python",
   "pygments_lexer": "ipython2",
   "version": "2.7.10"
  }
 },
 "nbformat": 4,
 "nbformat_minor": 0
}
