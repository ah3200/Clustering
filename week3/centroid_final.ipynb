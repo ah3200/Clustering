{
 "cells": [
  {
   "cell_type": "code",
   "execution_count": 1,
   "metadata": {
    "collapsed": true
   },
   "outputs": [],
   "source": [
    "import numpy as np"
   ]
  },
  {
   "cell_type": "code",
   "execution_count": 2,
   "metadata": {
    "collapsed": true
   },
   "outputs": [],
   "source": [
    "mat = np.random.randint(0,20,size=(200,3))"
   ]
  },
  {
   "cell_type": "code",
   "execution_count": 21,
   "metadata": {},
   "outputs": [],
   "source": [
    "def euclidean(q, data):\n",
    "    euc = np.zeros((data.shape[1],data.shape[0]))\n",
    "    for i in range(data.shape[1]):\n",
    "        euc[i] = np.sqrt(np.sum(((q[i]-mat)**2), axis=1))\n",
    "    return euc.transpose()"
   ]
  },
  {
   "cell_type": "code",
   "execution_count": 22,
   "metadata": {
    "collapsed": true
   },
   "outputs": [],
   "source": [
    "def _initialize_centroids(data, k):\n",
    "    \n",
    "    n = data.shape[0] \n",
    "    # Randomly choose index of the data as initial centroids\n",
    "    random_indices = np.random.randint(0, n, k)\n",
    "    centroids = data[random_indices,:]\n",
    "    \n",
    "    return centroids"
   ]
  },
  {
   "cell_type": "code",
   "execution_count": 23,
   "metadata": {
    "collapsed": true
   },
   "outputs": [],
   "source": [
    "def _assign_clusters(data, centroids):\n",
    "    \n",
    "    distances_from_centroids = euclidean(centroids, data)\n",
    "    cluster_assignments = np.argmin(distances_from_centroids, axis=1)\n",
    "    \n",
    "    return cluster_assignments"
   ]
  },
  {
   "cell_type": "code",
   "execution_count": 24,
   "metadata": {
    "collapsed": true
   },
   "outputs": [],
   "source": [
    "def _revise_centroids(data, k, clusters):\n",
    "    new_centroids = []\n",
    "    for i in range(k):\n",
    "        # Compute mean of data points in each cluster.\n",
    "        data_points_in_cluster = data[clusters==i]\n",
    "        centroid = data_points_in_cluster.mean(axis=0)\n",
    "        new_centroids.append(centroid)\n",
    "        \n",
    "    new_centroids = np.array(new_centroids)\n",
    "    \n",
    "    return new_centroids"
   ]
  },
  {
   "cell_type": "code",
   "execution_count": 38,
   "metadata": {
    "collapsed": true
   },
   "outputs": [],
   "source": [
    "def kmeans(data, k, maxiter=300):\n",
    "\n",
    "    centroids = _initialize_centroids(data, k)\n",
    "    prev_cluster_assignment = None\n",
    "    \n",
    "    print centroids\n",
    "    \n",
    "    for i in range(maxiter):        \n",
    "        # Assign data points to the nearest centroids\n",
    "        cluster_assignment = _assign_clusters(data, centroids)\n",
    "            \n",
    "        # Revise centroids by averaging all data points in each centroid\n",
    "        centroids = _revise_centroids(data, k, cluster_assignment)\n",
    "            \n",
    "        # if not data points change cluster, exit the loop\n",
    "        if prev_cluster_assignment is not None and (prev_cluster_assignment==cluster_assignment).all():\n",
    "            break\n",
    "        \n",
    "        # Print number of new assignments \n",
    "        if prev_cluster_assignment is not None:\n",
    "            num_changed = np.sum(prev_cluster_assignment!=cluster_assignment)\n",
    "            \n",
    "            print('    {0:5d} elements changed their cluster assignment.'.format(num_changed))   \n",
    "        \n",
    "        # Record heterogeneity convergence metric\n",
    "        #if record_heterogeneity is not None:\n",
    "            # YOUR CODE HERE\n",
    "        #    score = compute_heterogeneity(data, k, centroids, cluster_assignment)\n",
    "        #    record_heterogeneity.append(score)\n",
    "        \n",
    "        prev_cluster_assignment = cluster_assignment[:]\n",
    "        \n",
    "    return centroids, cluster_assignment"
   ]
  },
  {
   "cell_type": "code",
   "execution_count": 39,
   "metadata": {},
   "outputs": [
    {
     "name": "stdout",
     "output_type": "stream",
     "text": [
      "[[ 7 13  2]\n",
      " [19 19  0]\n",
      " [ 6 10 19]]\n",
      "       23 elements changed their cluster assignment.\n",
      "       10 elements changed their cluster assignment.\n",
      "        2 elements changed their cluster assignment.\n",
      "        2 elements changed their cluster assignment.\n",
      "        5 elements changed their cluster assignment.\n",
      "        4 elements changed their cluster assignment.\n",
      "        4 elements changed their cluster assignment.\n",
      "        4 elements changed their cluster assignment.\n",
      "        3 elements changed their cluster assignment.\n",
      "        3 elements changed their cluster assignment.\n",
      "        6 elements changed their cluster assignment.\n",
      "        4 elements changed their cluster assignment.\n",
      "        5 elements changed their cluster assignment.\n",
      "        6 elements changed their cluster assignment.\n",
      "        5 elements changed their cluster assignment.\n",
      "        4 elements changed their cluster assignment.\n",
      "        2 elements changed their cluster assignment.\n",
      "        2 elements changed their cluster assignment.\n",
      "        2 elements changed their cluster assignment.\n",
      "        3 elements changed their cluster assignment.\n",
      "        5 elements changed their cluster assignment.\n",
      "        5 elements changed their cluster assignment.\n",
      "        9 elements changed their cluster assignment.\n",
      "        4 elements changed their cluster assignment.\n",
      "        1 elements changed their cluster assignment.\n"
     ]
    },
    {
     "data": {
      "text/plain": [
       "(array([[ 14.51515152,   5.25757576,   8.66666667],\n",
       "        [ 13.96666667,  15.58333333,   8.2       ],\n",
       "        [  3.18918919,   8.81081081,  10.90540541]]),\n",
       " array([1, 0, 0, 0, 0, 0, 1, 0, 0, 2, 1, 2, 2, 1, 1, 2, 0, 2, 0, 2, 2, 0, 2,\n",
       "        1, 0, 1, 0, 0, 2, 1, 1, 2, 2, 1, 1, 2, 0, 0, 1, 0, 2, 0, 0, 1, 2, 2,\n",
       "        2, 1, 2, 1, 0, 2, 1, 1, 1, 2, 0, 0, 0, 1, 2, 1, 1, 0, 0, 2, 1, 2, 0,\n",
       "        2, 0, 0, 0, 1, 2, 2, 0, 1, 0, 2, 2, 2, 0, 1, 1, 0, 0, 2, 1, 0, 1, 0,\n",
       "        2, 2, 2, 0, 1, 2, 0, 1, 2, 2, 0, 0, 0, 1, 1, 0, 0, 1, 2, 2, 2, 2, 2,\n",
       "        0, 0, 1, 1, 2, 0, 0, 0, 2, 0, 1, 2, 0, 1, 1, 2, 0, 0, 2, 1, 1, 1, 2,\n",
       "        2, 1, 2, 1, 0, 2, 1, 0, 2, 1, 1, 2, 2, 1, 0, 0, 0, 1, 2, 2, 1, 1, 2,\n",
       "        2, 1, 2, 2, 2, 1, 0, 0, 1, 1, 1, 2, 2, 1, 0, 0, 0, 2, 0, 2, 2, 1, 1,\n",
       "        0, 1, 2, 2, 2, 2, 2, 2, 2, 0, 0, 2, 0, 2, 2, 1]))"
      ]
     },
     "execution_count": 39,
     "metadata": {},
     "output_type": "execute_result"
    }
   ],
   "source": [
    "kmeans(mat, 3)"
   ]
  },
  {
   "cell_type": "code",
   "execution_count": 35,
   "metadata": {
    "collapsed": true
   },
   "outputs": [],
   "source": [
    "from sklearn.cluster import KMeans"
   ]
  },
  {
   "cell_type": "code",
   "execution_count": 36,
   "metadata": {
    "collapsed": true
   },
   "outputs": [],
   "source": [
    "sk_kmeans = KMeans(n_clusters=3).fit(mat)"
   ]
  },
  {
   "cell_type": "code",
   "execution_count": 37,
   "metadata": {},
   "outputs": [
    {
     "data": {
      "text/plain": [
       "array([[  3.28947368,   8.73684211,  10.65789474],\n",
       "       [ 13.82758621,  15.63793103,   7.37931034],\n",
       "       [ 14.84848485,   5.5       ,   9.59090909]])"
      ]
     },
     "execution_count": 37,
     "metadata": {},
     "output_type": "execute_result"
    }
   ],
   "source": [
    "sk_kmeans.cluster_centers_"
   ]
  },
  {
   "cell_type": "code",
   "execution_count": null,
   "metadata": {
    "collapsed": true
   },
   "outputs": [],
   "source": []
  }
 ],
 "metadata": {
  "kernelspec": {
   "display_name": "Python 2",
   "language": "python",
   "name": "python2"
  },
  "language_info": {
   "codemirror_mode": {
    "name": "ipython",
    "version": 2
   },
   "file_extension": ".py",
   "mimetype": "text/x-python",
   "name": "python",
   "nbconvert_exporter": "python",
   "pygments_lexer": "ipython2",
   "version": "2.7.12"
  }
 },
 "nbformat": 4,
 "nbformat_minor": 2
}
