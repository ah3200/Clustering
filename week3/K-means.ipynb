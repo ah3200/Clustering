{
 "cells": [
  {
   "cell_type": "code",
   "execution_count": 1,
   "metadata": {
    "collapsed": true
   },
   "outputs": [],
   "source": [
    "import pandas as pd\n",
    "import numpy as np\n",
    "import matplotlib.pyplot as plt          # plotting\n",
    "from scipy.sparse import csr_matrix      # sparse matrices\n",
    "%matplotlib inline"
   ]
  },
  {
   "cell_type": "code",
   "execution_count": 2,
   "metadata": {
    "collapsed": true
   },
   "outputs": [],
   "source": [
    "wiki = pd.read_csv('people_wiki.csv')"
   ]
  },
  {
   "cell_type": "code",
   "execution_count": 3,
   "metadata": {
    "collapsed": true
   },
   "outputs": [],
   "source": [
    "def load_sparse_csr(filename):\n",
    "    loader = np.load(filename)\n",
    "    data = loader['data']\n",
    "    indices = loader['indices']\n",
    "    indptr = loader['indptr']\n",
    "    shape = loader['shape']\n",
    "    \n",
    "    return csr_matrix( (data, indices, indptr), shape)"
   ]
  },
  {
   "cell_type": "code",
   "execution_count": 4,
   "metadata": {
    "collapsed": true
   },
   "outputs": [],
   "source": [
    "tf_idf = load_sparse_csr('people_wiki_tf_idf.npz')"
   ]
  },
  {
   "cell_type": "code",
   "execution_count": 5,
   "metadata": {
    "collapsed": false
   },
   "outputs": [],
   "source": [
    "# now we can load it back\n",
    "import json\n",
    "with open('people_wiki_map_index_to_word.json','r') as f:\n",
    "    map_index_to_word = json.load(f)"
   ]
  },
  {
   "cell_type": "code",
   "execution_count": 6,
   "metadata": {
    "collapsed": true
   },
   "outputs": [],
   "source": [
    "from sklearn.preprocessing import normalize"
   ]
  },
  {
   "cell_type": "code",
   "execution_count": 7,
   "metadata": {
    "collapsed": true
   },
   "outputs": [],
   "source": [
    "tf_idf = normalize(tf_idf)"
   ]
  },
  {
   "cell_type": "code",
   "execution_count": 8,
   "metadata": {
    "collapsed": true
   },
   "outputs": [],
   "source": [
    "def get_initial_centroids(data, k, seed=None):\n",
    "    '''Randomly choose k data points as initial centroids'''\n",
    "    if seed is not None: # useful for obtaining consistent results\n",
    "        np.random.seed(seed)\n",
    "    n = data.shape[0] # number of data points\n",
    "        \n",
    "    # Pick K indices from range [0, N).\n",
    "    rand_indices = np.random.randint(0, n, k)\n",
    "    \n",
    "    # Keep centroids as dense format, as many entries will be nonzero due to averaging.\n",
    "    # As long as at least one document in a cluster contains a word,\n",
    "    # it will carry a nonzero weight in the TF-IDF vector of the centroid.\n",
    "    centroids = data[rand_indices,:].toarray()\n",
    "    \n",
    "    return centroids"
   ]
  },
  {
   "cell_type": "code",
   "execution_count": 9,
   "metadata": {
    "collapsed": false
   },
   "outputs": [
    {
     "name": "stdout",
     "output_type": "stream",
     "text": [
      "[[ 1.41000789  1.36894636]\n",
      " [ 1.40935215  1.41023886]\n",
      " [ 1.39855967  1.40890299]\n",
      " ..., \n",
      " [ 1.41108296  1.39123646]\n",
      " [ 1.41022804  1.31468652]\n",
      " [ 1.39899784  1.41072448]]\n"
     ]
    }
   ],
   "source": [
    "from sklearn.metrics.pairwise import pairwise_distances\n",
    "# Get the TF-IDF vectors for documents 100 through 102.\n",
    "queries = tf_idf[100:102,:]\n",
    "\n",
    "# Compute pairwise distances from every data point to each query vector.\n",
    "dist = pairwise_distances(tf_idf, queries, metric='euclidean')\n",
    "\n",
    "print dist"
   ]
  },
  {
   "cell_type": "code",
   "execution_count": 10,
   "metadata": {
    "collapsed": false
   },
   "outputs": [
    {
     "data": {
      "text/plain": [
       "((59071, 2), (59071, 547979))"
      ]
     },
     "execution_count": 10,
     "metadata": {},
     "output_type": "execute_result"
    }
   ],
   "source": [
    "dist.shape, tf_idf.shape"
   ]
  },
  {
   "cell_type": "code",
   "execution_count": 14,
   "metadata": {
    "collapsed": false
   },
   "outputs": [],
   "source": [
    "# Get the TF-IDF vectors for documents 100 through 102.\n",
    "query = tf_idf[:3,:]\n",
    "all_dist = pairwise_distances(tf_idf, query, metric='euclidean')"
   ]
  },
  {
   "cell_type": "code",
   "execution_count": 15,
   "metadata": {
    "collapsed": false
   },
   "outputs": [
    {
     "data": {
      "text/plain": [
       "(59071, 3)"
      ]
     },
     "execution_count": 15,
     "metadata": {},
     "output_type": "execute_result"
    }
   ],
   "source": [
    "all_dist.shape"
   ]
  },
  {
   "cell_type": "code",
   "execution_count": 16,
   "metadata": {
    "collapsed": false
   },
   "outputs": [
    {
     "name": "stdout",
     "output_type": "stream",
     "text": [
      "[[ 0.          1.40775177  1.38784582]\n",
      " [ 1.40775177  0.          1.39867641]\n",
      " [ 1.38784582  1.39867641  0.        ]\n",
      " ..., \n",
      " [ 1.37070999  1.40978937  1.40616385]\n",
      " [ 1.35214578  1.41306211  1.40869799]\n",
      " [ 1.40799024  1.41353429  1.40903605]]\n"
     ]
    }
   ],
   "source": [
    "print all_dist"
   ]
  },
  {
   "cell_type": "code",
   "execution_count": 21,
   "metadata": {
    "collapsed": false
   },
   "outputs": [
    {
     "data": {
      "text/plain": [
       "(1.4071310658540346, array([[ 1.40713107]]))"
      ]
     },
     "execution_count": 21,
     "metadata": {},
     "output_type": "execute_result"
    }
   ],
   "source": [
    "all_dist[430,1], pairwise_distances(tf_idf[430,:], tf_idf[1,:])"
   ]
  },
  {
   "cell_type": "code",
   "execution_count": 22,
   "metadata": {
    "collapsed": true
   },
   "outputs": [],
   "source": [
    "dist = all_dist[430,1]"
   ]
  },
  {
   "cell_type": "code",
   "execution_count": 23,
   "metadata": {
    "collapsed": false
   },
   "outputs": [
    {
     "name": "stdout",
     "output_type": "stream",
     "text": [
      "Pass\n"
     ]
    }
   ],
   "source": [
    "'''Test cell'''\n",
    "if np.allclose(dist, pairwise_distances(tf_idf[430,:], tf_idf[1,:])):\n",
    "    print('Pass')\n",
    "else:\n",
    "    print('Check your code again')"
   ]
  },
  {
   "cell_type": "code",
   "execution_count": 27,
   "metadata": {
    "collapsed": true
   },
   "outputs": [],
   "source": [
    "closest_cluster = np.argmin(all_dist, axis=1)"
   ]
  },
  {
   "cell_type": "code",
   "execution_count": 28,
   "metadata": {
    "collapsed": false
   },
   "outputs": [
    {
     "data": {
      "text/plain": [
       "((59071, 3), (59071,))"
      ]
     },
     "execution_count": 28,
     "metadata": {},
     "output_type": "execute_result"
    }
   ],
   "source": [
    "all_dist.shape, closest_cluster.shape"
   ]
  },
  {
   "cell_type": "code",
   "execution_count": 30,
   "metadata": {
    "collapsed": false
   },
   "outputs": [
    {
     "data": {
      "text/plain": [
       "array([0, 1, 2, ..., 0, 0, 0])"
      ]
     },
     "execution_count": 30,
     "metadata": {},
     "output_type": "execute_result"
    }
   ],
   "source": [
    "closest_cluster"
   ]
  },
  {
   "cell_type": "code",
   "execution_count": 31,
   "metadata": {
    "collapsed": false
   },
   "outputs": [
    {
     "name": "stdout",
     "output_type": "stream",
     "text": [
      "Pass\n"
     ]
    }
   ],
   "source": [
    "'''Test cell'''\n",
    "reference = [list(row).index(min(row)) for row in all_dist]\n",
    "if np.allclose(closest_cluster, reference):\n",
    "    print('Pass')\n",
    "else:\n",
    "    print('Check your code again')"
   ]
  },
  {
   "cell_type": "code",
   "execution_count": 33,
   "metadata": {
    "collapsed": false
   },
   "outputs": [
    {
     "name": "stdout",
     "output_type": "stream",
     "text": [
      "Pass\n"
     ]
    }
   ],
   "source": [
    "'''Test cluster assignment'''\n",
    "if len(closest_cluster)==59071 and \\\n",
    "   np.array_equal(np.bincount(closest_cluster), np.array([23061, 10086, 25924])):\n",
    "    print('Pass') # count number of data points for each cluster\n",
    "else:\n",
    "    print('Check your code again.')"
   ]
  },
  {
   "cell_type": "code",
   "execution_count": 34,
   "metadata": {
    "collapsed": true
   },
   "outputs": [],
   "source": [
    "def assign_clusters(data, centroids):\n",
    "    \n",
    "    # Compute distances between each data point and the set of centroids:\n",
    "    # Fill in the blank (RHS only)\n",
    "    distances_from_centroids = pairwise_distances(data, centroids, metric='euclidean')\n",
    "    \n",
    "    # Compute cluster assignments for each data point:\n",
    "    # Fill in the blank (RHS only)\n",
    "    cluster_assignment = np.argmin(distances_from_centroids, axis=1)\n",
    "    \n",
    "    return cluster_assignment"
   ]
  },
  {
   "cell_type": "code",
   "execution_count": 35,
   "metadata": {
    "collapsed": false
   },
   "outputs": [
    {
     "name": "stdout",
     "output_type": "stream",
     "text": [
      "Pass\n"
     ]
    }
   ],
   "source": [
    "''' Test function '''\n",
    "if np.allclose(assign_clusters(tf_idf[0:100:10], tf_idf[0:8:2]), np.array([0, 1, 1, 0, 0, 2, 0, 2, 2, 1])):\n",
    "    print('Pass')\n",
    "else:\n",
    "    print('Check your code again.')"
   ]
  },
  {
   "cell_type": "code",
   "execution_count": 36,
   "metadata": {
    "collapsed": false
   },
   "outputs": [
    {
     "name": "stdout",
     "output_type": "stream",
     "text": [
      "[0 1 0]\n",
      "[[ 0.  0.  0.]]\n",
      "[[ 1.  2.  0.]\n",
      " [ 2.  2.  0.]]\n"
     ]
    }
   ],
   "source": [
    "data = np.array([[1., 2., 0.],\n",
    "                 [0., 0., 0.],\n",
    "                 [2., 2., 0.]])\n",
    "centroids = np.array([[0.5, 0.5, 0.],\n",
    "                      [0., -0.5, 0.]])\n",
    "cluster_assignment = assign_clusters(data, centroids)\n",
    "print cluster_assignment   # prints [0 1 0]\n",
    "print data[cluster_assignment==1]\n",
    "print data[cluster_assignment==0]"
   ]
  },
  {
   "cell_type": "code",
   "execution_count": 45,
   "metadata": {
    "collapsed": false
   },
   "outputs": [
    {
     "data": {
      "text/plain": [
       "array([0, 1, 0])"
      ]
     },
     "execution_count": 45,
     "metadata": {},
     "output_type": "execute_result"
    }
   ],
   "source": [
    "cluster_assignment"
   ]
  },
  {
   "cell_type": "code",
   "execution_count": 37,
   "metadata": {
    "collapsed": false
   },
   "outputs": [
    {
     "name": "stdout",
     "output_type": "stream",
     "text": [
      "[ 1.5  2.   0. ]\n"
     ]
    }
   ],
   "source": [
    "print data[cluster_assignment==0].mean(axis=0)"
   ]
  },
  {
   "cell_type": "code",
   "execution_count": 40,
   "metadata": {
    "collapsed": false
   },
   "outputs": [
    {
     "name": "stdout",
     "output_type": "stream",
     "text": [
      "[ 0.  0.  0.]\n"
     ]
    }
   ],
   "source": [
    "print data[cluster_assignment==1].mean(axis=0)"
   ]
  },
  {
   "cell_type": "code",
   "execution_count": 84,
   "metadata": {
    "collapsed": true
   },
   "outputs": [],
   "source": [
    "def revise_centroids(data, k, cluster_assignment):\n",
    "    new_centroids = []\n",
    "    for i in range(k):\n",
    "        # Select all data points that belong to cluster i. Fill in the blank (RHS only)\n",
    "        member_data_points = data[cluster_assignment==i]\n",
    "        # Compute the mean of the data points. Fill in the blank (RHS only)\n",
    "        centroid = member_data_points.mean(axis=0)\n",
    "        \n",
    "        # Convert numpy.matrix type to numpy.ndarray type\n",
    "        centroid = centroid.A1\n",
    "        new_centroids.append(centroid)\n",
    "    new_centroids = np.array(new_centroids)\n",
    "    \n",
    "    return new_centroids"
   ]
  },
  {
   "cell_type": "code",
   "execution_count": 46,
   "metadata": {
    "collapsed": false
   },
   "outputs": [
    {
     "data": {
      "text/plain": [
       "array([0, 1, 1, 0, 0, 2, 0, 2, 2, 1])"
      ]
     },
     "execution_count": 46,
     "metadata": {},
     "output_type": "execute_result"
    }
   ],
   "source": [
    "ca = np.array([0, 1, 1, 0, 0, 2, 0, 2, 2, 1])\n",
    "ca"
   ]
  },
  {
   "cell_type": "code",
   "execution_count": 49,
   "metadata": {
    "collapsed": false
   },
   "outputs": [
    {
     "data": {
      "text/plain": [
       "((10, 547979), (59071, 547979))"
      ]
     },
     "execution_count": 49,
     "metadata": {},
     "output_type": "execute_result"
    }
   ],
   "source": [
    "tf_idf[0:100:10].shape, tf_idf.shape"
   ]
  },
  {
   "cell_type": "code",
   "execution_count": 55,
   "metadata": {
    "collapsed": false
   },
   "outputs": [
    {
     "data": {
      "text/plain": [
       "((1, 547979), (1, 547979), (1, 547979))"
      ]
     },
     "execution_count": 55,
     "metadata": {},
     "output_type": "execute_result"
    }
   ],
   "source": [
    "tf_idf[0:100:10][ca==0].mean(axis=0).shape, tf_idf[0:100:10][ca==1].mean(axis=0).shape, tf_idf[0:100:10][ca==2].mean(axis=0).shape"
   ]
  },
  {
   "cell_type": "code",
   "execution_count": 59,
   "metadata": {
    "collapsed": true
   },
   "outputs": [],
   "source": [
    "x1 = tf_idf[0:100:10][ca==0]\n",
    "x2 = tf_idf[0:100:10][ca==1]\n",
    "x3 = tf_idf[0:100:10][ca==2]"
   ]
  },
  {
   "cell_type": "code",
   "execution_count": 61,
   "metadata": {
    "collapsed": false
   },
   "outputs": [
    {
     "data": {
      "text/plain": [
       "(matrix([[  0.00000000e+00,   0.00000000e+00,   0.00000000e+00, ...,\n",
       "            1.50008938e-04,   8.46265596e-05,   2.38278645e-05]]),\n",
       " matrix([[  0.00000000e+00,   0.00000000e+00,   0.00000000e+00, ...,\n",
       "            8.72572638e-05,   6.98529765e-05,   1.99263190e-05]]),\n",
       " matrix([[  0.00000000e+00,   0.00000000e+00,   0.00000000e+00, ...,\n",
       "            1.01598466e-04,   8.08230804e-05,   1.77362711e-05]]))"
      ]
     },
     "execution_count": 61,
     "metadata": {},
     "output_type": "execute_result"
    }
   ],
   "source": [
    "x1.mean(axis=0), x2.mean(axis=0), x3.mean(axis=0)"
   ]
  },
  {
   "cell_type": "code",
   "execution_count": 85,
   "metadata": {
    "collapsed": false
   },
   "outputs": [
    {
     "name": "stdout",
     "output_type": "stream",
     "text": [
      "Pass\n"
     ]
    }
   ],
   "source": [
    "result = revise_centroids(tf_idf[:100:10], 3, np.array([0, 1, 1, 0, 0, 2, 0, 2, 2, 1]))\n",
    "if np.allclose(result[0], np.mean(tf_idf[[0,30,40,60]].toarray(), axis=0)) and \\\n",
    "   np.allclose(result[1], np.mean(tf_idf[[10,20,90]].toarray(), axis=0))   and \\\n",
    "   np.allclose(result[2], np.mean(tf_idf[[50,70,80]].toarray(), axis=0)):\n",
    "    print('Pass')\n",
    "else:\n",
    "    print('Check your code')"
   ]
  },
  {
   "cell_type": "code",
   "execution_count": 86,
   "metadata": {
    "collapsed": true
   },
   "outputs": [],
   "source": [
    "def compute_heterogeneity(data, k, centroids, cluster_assignment):\n",
    "    \n",
    "    heterogeneity = 0.0\n",
    "    for i in xrange(k):\n",
    "        \n",
    "        # Select all data points that belong to cluster i. Fill in the blank (RHS only)\n",
    "        member_data_points = data[cluster_assignment==i, :]\n",
    "        \n",
    "        if member_data_points.shape[0] > 0: # check if i-th cluster is non-empty\n",
    "            # Compute distances from centroid to data points (RHS only)\n",
    "            distances = pairwise_distances(member_data_points, [centroids[i]], metric='euclidean')\n",
    "            squared_distances = distances**2\n",
    "            heterogeneity += np.sum(squared_distances)\n",
    "        \n",
    "    return heterogeneity"
   ]
  },
  {
   "cell_type": "code",
   "execution_count": 87,
   "metadata": {
    "collapsed": true
   },
   "outputs": [],
   "source": [
    "# Fill in the blanks\n",
    "def kmeans(data, k, initial_centroids, maxiter, record_heterogeneity=None, verbose=False):\n",
    "    '''This function runs k-means on given data and initial set of centroids.\n",
    "       maxiter: maximum number of iterations to run.\n",
    "       record_heterogeneity: (optional) a list, to store the history of heterogeneity as function of iterations\n",
    "                             if None, do not store the history.\n",
    "       verbose: if True, print how many data points changed their cluster labels in each iteration'''\n",
    "    centroids = initial_centroids[:]\n",
    "    prev_cluster_assignment = None\n",
    "    \n",
    "    for itr in xrange(maxiter):        \n",
    "        if verbose:\n",
    "            print(itr)\n",
    "        \n",
    "        # 1. Make cluster assignments using nearest centroids\n",
    "        # YOUR CODE HERE\n",
    "        cluster_assignment = assign_clusters(data, centroids)\n",
    "            \n",
    "        # 2. Compute a new centroid for each of the k clusters, averaging all data points assigned to that cluster.\n",
    "        # YOUR CODE HERE\n",
    "        centroids = revise_centroids(data, k, cluster_assignment)\n",
    "            \n",
    "        # Check for convergence: if none of the assignments changed, stop\n",
    "        if prev_cluster_assignment is not None and \\\n",
    "          (prev_cluster_assignment==cluster_assignment).all():\n",
    "            break\n",
    "        \n",
    "        # Print number of new assignments \n",
    "        if prev_cluster_assignment is not None:\n",
    "            num_changed = np.sum(prev_cluster_assignment!=cluster_assignment)\n",
    "            if verbose:\n",
    "                print('    {0:5d} elements changed their cluster assignment.'.format(num_changed))   \n",
    "        \n",
    "        # Record heterogeneity convergence metric\n",
    "        if record_heterogeneity is not None:\n",
    "            # YOUR CODE HERE\n",
    "            score = compute_heterogeneity(data, k, centroids, cluster_assignment)\n",
    "            record_heterogeneity.append(score)\n",
    "        \n",
    "        prev_cluster_assignment = cluster_assignment[:]\n",
    "        \n",
    "    return centroids, cluster_assignment"
   ]
  },
  {
   "cell_type": "code",
   "execution_count": 88,
   "metadata": {
    "collapsed": true
   },
   "outputs": [],
   "source": [
    "def plot_heterogeneity(heterogeneity, k):\n",
    "    plt.figure(figsize=(7,4))\n",
    "    plt.plot(heterogeneity, linewidth=4)\n",
    "    plt.xlabel('# Iterations')\n",
    "    plt.ylabel('Heterogeneity')\n",
    "    plt.title('Heterogeneity of clustering over time, K={0:d}'.format(k))\n",
    "    plt.rcParams.update({'font.size': 16})\n",
    "    plt.tight_layout()"
   ]
  },
  {
   "cell_type": "code",
   "execution_count": 89,
   "metadata": {
    "collapsed": false
   },
   "outputs": [
    {
     "name": "stdout",
     "output_type": "stream",
     "text": [
      "0\n",
      "1\n",
      "    19157 elements changed their cluster assignment.\n",
      "2\n",
      "     7739 elements changed their cluster assignment.\n",
      "3\n",
      "     5119 elements changed their cluster assignment.\n",
      "4\n",
      "     3370 elements changed their cluster assignment.\n",
      "5\n",
      "     2811 elements changed their cluster assignment.\n",
      "6\n",
      "     3233 elements changed their cluster assignment.\n",
      "7\n",
      "     3815 elements changed their cluster assignment.\n",
      "8\n",
      "     3172 elements changed their cluster assignment.\n",
      "9\n",
      "     1149 elements changed their cluster assignment.\n",
      "10\n",
      "      498 elements changed their cluster assignment.\n",
      "11\n",
      "      265 elements changed their cluster assignment.\n",
      "12\n",
      "      149 elements changed their cluster assignment.\n",
      "13\n",
      "      100 elements changed their cluster assignment.\n",
      "14\n",
      "       76 elements changed their cluster assignment.\n",
      "15\n",
      "       67 elements changed their cluster assignment.\n",
      "16\n",
      "       51 elements changed their cluster assignment.\n",
      "17\n",
      "       47 elements changed their cluster assignment.\n",
      "18\n",
      "       40 elements changed their cluster assignment.\n",
      "19\n",
      "       34 elements changed their cluster assignment.\n",
      "20\n",
      "       35 elements changed their cluster assignment.\n",
      "21\n",
      "       39 elements changed their cluster assignment.\n",
      "22\n",
      "       24 elements changed their cluster assignment.\n",
      "23\n",
      "       16 elements changed their cluster assignment.\n",
      "24\n",
      "       12 elements changed their cluster assignment.\n",
      "25\n",
      "       14 elements changed their cluster assignment.\n",
      "26\n",
      "       17 elements changed their cluster assignment.\n",
      "27\n",
      "       15 elements changed their cluster assignment.\n",
      "28\n",
      "       14 elements changed their cluster assignment.\n",
      "29\n",
      "       16 elements changed their cluster assignment.\n",
      "30\n",
      "       21 elements changed their cluster assignment.\n",
      "31\n",
      "       22 elements changed their cluster assignment.\n",
      "32\n",
      "       33 elements changed their cluster assignment.\n",
      "33\n",
      "       35 elements changed their cluster assignment.\n",
      "34\n",
      "       39 elements changed their cluster assignment.\n",
      "35\n",
      "       36 elements changed their cluster assignment.\n",
      "36\n",
      "       36 elements changed their cluster assignment.\n",
      "37\n",
      "       25 elements changed their cluster assignment.\n",
      "38\n",
      "       27 elements changed their cluster assignment.\n",
      "39\n",
      "       25 elements changed their cluster assignment.\n",
      "40\n",
      "       28 elements changed their cluster assignment.\n",
      "41\n",
      "       35 elements changed their cluster assignment.\n",
      "42\n",
      "       31 elements changed their cluster assignment.\n",
      "43\n",
      "       25 elements changed their cluster assignment.\n",
      "44\n",
      "       18 elements changed their cluster assignment.\n",
      "45\n",
      "       15 elements changed their cluster assignment.\n",
      "46\n",
      "       10 elements changed their cluster assignment.\n",
      "47\n",
      "        8 elements changed their cluster assignment.\n",
      "48\n",
      "        8 elements changed their cluster assignment.\n",
      "49\n",
      "        8 elements changed their cluster assignment.\n",
      "50\n",
      "        7 elements changed their cluster assignment.\n",
      "51\n",
      "        8 elements changed their cluster assignment.\n",
      "52\n",
      "        3 elements changed their cluster assignment.\n",
      "53\n",
      "        3 elements changed their cluster assignment.\n",
      "54\n",
      "        4 elements changed their cluster assignment.\n",
      "55\n",
      "        2 elements changed their cluster assignment.\n",
      "56\n",
      "        3 elements changed their cluster assignment.\n",
      "57\n",
      "        3 elements changed their cluster assignment.\n",
      "58\n",
      "        1 elements changed their cluster assignment.\n",
      "59\n",
      "        1 elements changed their cluster assignment.\n",
      "60\n"
     ]
    },
    {
     "data": {
      "image/png": "[encoded data removed]",
      "text/plain": [
       "<matplotlib.figure.Figure at 0x11de69e10>"
      ]
     },
     "metadata": {},
     "output_type": "display_data"
    }
   ],
   "source": [
    "k = 3\n",
    "heterogeneity = []\n",
    "initial_centroids = get_initial_centroids(tf_idf, k, seed=0)\n",
    "centroids, cluster_assignment = kmeans(tf_idf, k, initial_centroids, maxiter=400,\n",
    "                                       record_heterogeneity=heterogeneity, verbose=True)\n",
    "plot_heterogeneity(heterogeneity, k)"
   ]
  },
  {
   "cell_type": "code",
   "execution_count": 92,
   "metadata": {
    "collapsed": false
   },
   "outputs": [
    {
     "data": {
      "text/plain": [
       "array([[  0.00000000e+00,   0.00000000e+00,   0.00000000e+00, ...,\n",
       "          1.13957629e-04,   9.38937922e-05,   1.98350206e-05],\n",
       "       [  0.00000000e+00,   9.46593597e-06,   0.00000000e+00, ...,\n",
       "          1.37670861e-04,   6.49631597e-05,   2.27433941e-05],\n",
       "       [  4.92624714e-06,   0.00000000e+00,   4.72954750e-06, ...,\n",
       "          1.09191883e-04,   8.63979609e-05,   2.07849580e-05]])"
      ]
     },
     "execution_count": 92,
     "metadata": {},
     "output_type": "execute_result"
    }
   ],
   "source": [
    "centroids"
   ]
  },
  {
   "cell_type": "code",
   "execution_count": 97,
   "metadata": {
    "collapsed": false
   },
   "outputs": [
    {
     "data": {
      "text/plain": [
       "((59071,), (3, 547979))"
      ]
     },
     "execution_count": 97,
     "metadata": {},
     "output_type": "execute_result"
    }
   ],
   "source": [
    "cluster_assignment.shape, centroids.shape"
   ]
  },
  {
   "cell_type": "code",
   "execution_count": 95,
   "metadata": {
    "collapsed": false
   },
   "outputs": [
    {
     "data": {
      "text/plain": [
       "array([19595, 10427, 29049])"
      ]
     },
     "execution_count": 95,
     "metadata": {},
     "output_type": "execute_result"
    }
   ],
   "source": [
    "np.bincount(cluster_assignment)"
   ]
  },
  {
   "cell_type": "code",
   "execution_count": 96,
   "metadata": {
    "collapsed": false
   },
   "outputs": [
    {
     "data": {
      "text/plain": [
       "array([1, 2, 0, ..., 1, 1, 2])"
      ]
     },
     "execution_count": 96,
     "metadata": {},
     "output_type": "execute_result"
    }
   ],
   "source": [
    "cluster_assignment"
   ]
  },
  {
   "cell_type": "code",
   "execution_count": 99,
   "metadata": {
    "collapsed": false
   },
   "outputs": [
    {
     "data": {
      "text/plain": [
       "array([[  0.00000000e+00,   0.00000000e+00,   0.00000000e+00, ...,\n",
       "          1.13957629e-04,   9.38937922e-05,   1.98350206e-05],\n",
       "       [  0.00000000e+00,   9.46593597e-06,   0.00000000e+00, ...,\n",
       "          1.37670861e-04,   6.49631597e-05,   2.27433941e-05],\n",
       "       [  4.92624714e-06,   0.00000000e+00,   4.72954750e-06, ...,\n",
       "          1.09191883e-04,   8.63979609e-05,   2.07849580e-05]])"
      ]
     },
     "execution_count": 99,
     "metadata": {},
     "output_type": "execute_result"
    }
   ],
   "source": [
    "centroids"
   ]
  },
  {
   "cell_type": "code",
   "execution_count": 100,
   "metadata": {
    "collapsed": false
   },
   "outputs": [
    {
     "data": {
      "text/plain": [
       "182659"
      ]
     },
     "execution_count": 100,
     "metadata": {},
     "output_type": "execute_result"
    }
   ],
   "source": [
    "centroids.shape[1]/centroids.shape[0]"
   ]
  },
  {
   "cell_type": "markdown",
   "metadata": {},
   "source": [
    "Beware of local minima\n",
    "\n",
    "One weakness of k-means is that it tends to get stuck in a local minimum. To see this, let us run k-means multiple times, with different initial centroids created using different random seeds.\n",
    "\n",
    "Note: Again, in practice, you should set different seeds for every run. We give you a list of seeds for this assignment so that everyone gets the same answer."
   ]
  },
  {
   "cell_type": "code",
   "execution_count": 102,
   "metadata": {
    "collapsed": false
   },
   "outputs": [
    {
     "name": "stdout",
     "output_type": "stream",
     "text": [
      "seed=000000, heterogeneity=57457.52442\n",
      "seed=020000, heterogeneity=57533.20100\n",
      "seed=040000, heterogeneity=57512.69257\n",
      "seed=060000, heterogeneity=57466.97925\n",
      "seed=080000, heterogeneity=57494.92990\n",
      "seed=100000, heterogeneity=57484.42210\n",
      "seed=120000, heterogeneity=57554.62410\n",
      "300.845809221\n"
     ]
    }
   ],
   "source": [
    "k = 10\n",
    "heterogeneity = {}\n",
    "import time\n",
    "import sys\n",
    "start = time.time()\n",
    "for seed in [0, 20000, 40000, 60000, 80000, 100000, 120000]:\n",
    "    initial_centroids = get_initial_centroids(tf_idf, k, seed)\n",
    "    centroids, cluster_assignment = kmeans(tf_idf, k, initial_centroids, maxiter=400,\n",
    "                                           record_heterogeneity=None, verbose=False)\n",
    "    # To save time, compute heterogeneity only once in the end\n",
    "    heterogeneity[seed] = compute_heterogeneity(tf_idf, k, centroids, cluster_assignment)\n",
    "    print('seed={0:06d}, heterogeneity={1:.5f}'.format(seed, heterogeneity[seed]))\n",
    "    sys.stdout.flush()\n",
    "end = time.time()\n",
    "print(end-start)"
   ]
  },
  {
   "cell_type": "code",
   "execution_count": 107,
   "metadata": {
    "collapsed": false
   },
   "outputs": [],
   "source": [
    "def smart_initialize(data, k, seed=None):\n",
    "    '''Use k-means++ to initialize a good set of centroids'''\n",
    "    if seed is not None: # useful for obtaining consistent results\n",
    "        np.random.seed(seed)\n",
    "    centroids = np.zeros((k, data.shape[1]))\n",
    "    \n",
    "    # Randomly choose the first centroid.\n",
    "    # Since we have no prior knowledge, choose uniformly at random\n",
    "    idx = np.random.randint(data.shape[0])\n",
    "    centroids[0] = data[idx,:].toarray()\n",
    "    # Compute distances from the first centroid chosen to all the other data points\n",
    "    squared_distances = pairwise_distances(data, centroids[0:1], metric='euclidean').flatten()**2\n",
    "    \n",
    "    for i in xrange(1, k):\n",
    "        # Choose the next centroid randomly, so that the probability for each data point to be chosen\n",
    "        # is directly proportional to its squared distance from the nearest centroid.\n",
    "        # Roughtly speaking, a new centroid should be as far as from ohter centroids as possible.\n",
    "        idx = np.random.choice(data.shape[0], 1, p=squared_distances/sum(squared_distances))\n",
    "        centroids[i] = data[idx,:].toarray()\n",
    "        # Now compute distances from the centroids to all data points\n",
    "        squared_distances = np.min(pairwise_distances(data, centroids[0:i+1], metric='euclidean')**2,axis=1)\n",
    "    \n",
    "    return centroids"
   ]
  },
  {
   "cell_type": "code",
   "execution_count": 108,
   "metadata": {
    "collapsed": false
   },
   "outputs": [
    {
     "name": "stdout",
     "output_type": "stream",
     "text": [
      "seed=000000, heterogeneity=57468.63808\n",
      "seed=020000, heterogeneity=57486.94263\n",
      "seed=040000, heterogeneity=57454.35926\n",
      "seed=060000, heterogeneity=57530.43659\n",
      "seed=080000, heterogeneity=57454.51852\n",
      "seed=100000, heterogeneity=57471.56674\n",
      "seed=120000, heterogeneity=57523.28839\n",
      "380.904027939\n"
     ]
    }
   ],
   "source": [
    "k = 10\n",
    "heterogeneity_smart = {}\n",
    "start = time.time()\n",
    "for seed in [0, 20000, 40000, 60000, 80000, 100000, 120000]:\n",
    "    initial_centroids = smart_initialize(tf_idf, k, seed)\n",
    "    centroids, cluster_assignment = kmeans(tf_idf, k, initial_centroids, maxiter=400,\n",
    "                                           record_heterogeneity=None, verbose=False)\n",
    "    # To save time, compute heterogeneity only once in the end\n",
    "    heterogeneity_smart[seed] = compute_heterogeneity(tf_idf, k, centroids, cluster_assignment)\n",
    "    print('seed={0:06d}, heterogeneity={1:.5f}'.format(seed, heterogeneity_smart[seed]))\n",
    "    sys.stdout.flush()\n",
    "end = time.time()\n",
    "print(end-start)"
   ]
  },
  {
   "cell_type": "code",
   "execution_count": 109,
   "metadata": {
    "collapsed": false
   },
   "outputs": [
    {
     "data": {
      "image/png": "[encoded data removed]",
      "text/plain": [
       "<matplotlib.figure.Figure at 0x11dd04e10>"
      ]
     },
     "metadata": {},
     "output_type": "display_data"
    }
   ],
   "source": [
    "plt.figure(figsize=(8,5))\n",
    "plt.boxplot([heterogeneity.values(), heterogeneity_smart.values()], vert=False)\n",
    "plt.yticks([1, 2], ['k-means', 'k-means++'])\n",
    "plt.rcParams.update({'font.size': 16})\n",
    "plt.tight_layout()"
   ]
  },
  {
   "cell_type": "markdown",
   "metadata": {},
   "source": [
    "A few things to notice from the box plot:\n",
    "\n",
    "On average, k-means++ produces a better clustering than Random initialization.\n",
    "Variation in clustering quality is smaller for k-means++.\n",
    "In general, you should run k-means at least a few times with different initializations and then return the run resulting in the lowest heterogeneity. Let us write a function that runs k-means multiple times and picks the best run that minimizes heterogeneity. The function accepts an optional list of seed values to be used for the multiple runs; if no such list is provided, the current UTC time is used as seed values."
   ]
  },
  {
   "cell_type": "code",
   "execution_count": 111,
   "metadata": {
    "collapsed": false
   },
   "outputs": [],
   "source": [
    "def kmeans_multiple_runs(data, k, maxiter, num_runs, seed_list=None, verbose=False):\n",
    "    heterogeneity = {}\n",
    "    \n",
    "    min_heterogeneity_achieved = float('inf')\n",
    "    best_seed = None\n",
    "    final_centroids = None\n",
    "    final_cluster_assignment = None\n",
    "    \n",
    "    for i in xrange(num_runs):\n",
    "        \n",
    "        # Use UTC time if no seeds are provided \n",
    "        if seed_list is not None: \n",
    "            seed = seed_list[i]\n",
    "            np.random.seed(seed)\n",
    "        else: \n",
    "            seed = int(time.time())\n",
    "            np.random.seed(seed)\n",
    "        \n",
    "        # Use k-means++ initialization\n",
    "        # YOUR CODE HERE\n",
    "        initial_centroids = smart_initialize(data, k, seed)\n",
    "        \n",
    "        # Run k-means\n",
    "        # YOUR CODE HERE\n",
    "        centroids, cluster_assignment = kmeans(data, k, initial_centroids, maxiter, verbose=verbose)\n",
    "        \n",
    "        # To save time, compute heterogeneity only once in the end\n",
    "        # YOUR CODE HERE\n",
    "        heterogeneity[seed] = compute_heterogeneity(data, k, centroids, cluster_assignment)\n",
    "        \n",
    "        if verbose:\n",
    "            print('seed={0:06d}, heterogeneity={1:.5f}'.format(seed, heterogeneity[seed]))\n",
    "            sys.stdout.flush()\n",
    "        \n",
    "        # if current measurement of heterogeneity is lower than previously seen,\n",
    "        # update the minimum record of heterogeneity.\n",
    "        if heterogeneity[seed] < min_heterogeneity_achieved:\n",
    "            min_heterogeneity_achieved = heterogeneity[seed]\n",
    "            best_seed = seed\n",
    "            final_centroids = centroids\n",
    "            final_cluster_assignment = cluster_assignment\n",
    "    \n",
    "    # Return the centroids and cluster assignments that minimize heterogeneity.\n",
    "    return final_centroids, final_cluster_assignment"
   ]
  },
  {
   "cell_type": "code",
   "execution_count": 112,
   "metadata": {
    "collapsed": true
   },
   "outputs": [],
   "source": [
    "def plot_k_vs_heterogeneity(k_values, heterogeneity_values):\n",
    "    plt.figure(figsize=(7,4))\n",
    "    plt.plot(k_values, heterogeneity_values, linewidth=4)\n",
    "    plt.xlabel('K')\n",
    "    plt.ylabel('Heterogeneity')\n",
    "    plt.title('K vs. Heterogeneity')\n",
    "    plt.rcParams.update({'font.size': 16})\n",
    "    plt.tight_layout()"
   ]
  },
  {
   "cell_type": "code",
   "execution_count": 114,
   "metadata": {
    "collapsed": false
   },
   "outputs": [
    {
     "name": "stdout",
     "output_type": "stream",
     "text": [
      "2\n",
      "10\n",
      "25\n",
      "50\n",
      "100\n"
     ]
    },
    {
     "data": {
      "image/png": "[encoded data removed]",
      "text/plain": [
       "<matplotlib.figure.Figure at 0x11d31d490>"
      ]
     },
     "metadata": {},
     "output_type": "display_data"
    }
   ],
   "source": [
    "import os\n",
    "\n",
    "filename = 'kmeans-arrays.npz'\n",
    "\n",
    "heterogeneity_values = []\n",
    "k_list = [2, 10, 25, 50, 100]\n",
    "\n",
    "if os.path.exists(filename):\n",
    "    arrays = np.load(filename)\n",
    "    centroids = {}\n",
    "    cluster_assignment = {}\n",
    "    for k in k_list:\n",
    "        print k\n",
    "        sys.stdout.flush()\n",
    "        centroids[k] = arrays['centroids_{0:d}'.format(k)]\n",
    "        cluster_assignment[k] = arrays['cluster_assignment_{0:d}'.format(k)]\n",
    "        score = compute_heterogeneity(tf_idf, k, centroids[k], cluster_assignment[k])\n",
    "        heterogeneity_values.append(score)\n",
    "    \n",
    "    plot_k_vs_heterogeneity(k_list, heterogeneity_values)\n",
    "\n",
    "else:\n",
    "    print('File not found. Skipping.')"
   ]
  },
  {
   "cell_type": "code",
   "execution_count": 174,
   "metadata": {
    "collapsed": false
   },
   "outputs": [],
   "source": [
    "def visualize_document_clusters(wiki, tf_idf, centroids, cluster_assignment, k, map_index_to_word, display_content=True):\n",
    "    '''wiki: original dataframe\n",
    "       tf_idf: data matrix, sparse matrix format\n",
    "       map_index_to_word: SFrame specifying the mapping betweeen words and column indices\n",
    "       display_content: if True, display 8 nearest neighbors of each centroid'''\n",
    "    \n",
    "    print('==========================================================')\n",
    "\n",
    "    # Visualize each cluster c\n",
    "    for c in xrange(k):\n",
    "        # Cluster heading\n",
    "        print('Cluster {0:d}    '.format(c)),\n",
    "        # Print top 5 words with largest TF-IDF weights in the cluster\n",
    "        idx = centroids[c].argsort()[::-1]\n",
    "        print idx[:5]\n",
    "        for i in xrange(5): # Print each word along with the TF-IDF weight\n",
    "            #print idx[i]\n",
    "            print('{0:s}:{1:.3f}'.format(map_index_to_word[idx[i]], centroids[c,idx[i]])),\n",
    "        print('')\n",
    "        \n",
    "        if display_content:\n",
    "            # Compute distances from the centroid to all data points in the cluster,\n",
    "            # and compute nearest neighbors of the centroids within the cluster.\n",
    "            distances = pairwise_distances(tf_idf, [centroids[c]], metric='euclidean').flatten()\n",
    "            distances[cluster_assignment!=c] = float('inf') # remove non-members from consideration\n",
    "            nearest_neighbors = distances.argsort()\n",
    "            # For 8 nearest neighbors, print the title as well as first 180 characters of text.\n",
    "            # Wrap the text at 80-character mark.\n",
    "            for i in xrange(8):\n",
    "                #print nearest_neighbors[i]\n",
    "                text = ' '.join(wiki.ix[nearest_neighbors[i],['text']].str[:25])\n",
    "                print('\\n* {0:50s} {1:.5f}\\n  {2:s}\\n  {3:s}'.format(wiki.ix[nearest_neighbors[i],['name']],\n",
    "                    distances[nearest_neighbors[i]], text[:90], text[90:180] if len(text) > 90 else ''))\n",
    "        print('==========================================================')"
   ]
  },
  {
   "cell_type": "code",
   "execution_count": 175,
   "metadata": {
    "collapsed": false
   },
   "outputs": [
    {
     "name": "stdout",
     "output_type": "stream",
     "text": [
      "==========================================================\n",
      "Cluster 0     [547896 547903 547870 547966 547954]\n",
      "she:0.025 her:0.017 music:0.012 he:0.011 university:0.011 \n",
      "\n",
      "* name    Anita Kunz\n",
      "Name: 37198, dtype: object      0.97401\n",
      "  anita e kunz oc born 1956\n",
      "  \n",
      "\n",
      "* name    Janet Jackson\n",
      "Name: 54350, dtype: object   0.97472\n",
      "  janet damita jo jackson b\n",
      "  \n",
      "\n",
      "* name    Madonna (entertainer)\n",
      "Name: 40505, dtype: object 0.97475\n",
      "  madonna louise ciccone tk\n",
      "  \n",
      "\n",
      "* name    %C3%81ine Hyland\n",
      "Name: 13497, dtype: object 0.97536\n",
      "  ine hyland ne donlon is e\n",
      "  \n",
      "\n",
      "* name    Jane Fonda\n",
      "Name: 11666, dtype: object      0.97621\n",
      "  jane fonda born lady jayn\n",
      "  \n",
      "\n",
      "* name    Christine Robertson\n",
      "Name: 5205, dtype: object 0.97643\n",
      "  christine mary robertson \n",
      "  \n",
      "\n",
      "* name    Pat Studdy-Clift\n",
      "Name: 26909, dtype: object 0.97643\n",
      "  pat studdyclift is an aus\n",
      "  \n",
      "\n",
      "* name    Alexandra Potter\n",
      "Name: 28487, dtype: object 0.97646\n",
      "  alexandra potter born 197\n",
      "  \n",
      "==========================================================\n",
      "Cluster 1     [547809 547856 547876 547651 547904]\n",
      "league:0.040 season:0.036 team:0.029 football:0.029 played:0.028 \n",
      "\n",
      "* name    Todd Williams\n",
      "Name: 35358, dtype: object   0.95468\n",
      "  todd michael williams bor\n",
      "  \n",
      "\n",
      "* name    Gord Sherven\n",
      "Name: 16332, dtype: object    0.95622\n",
      "  gordon r sherven born aug\n",
      "  \n",
      "\n",
      "* name    Justin Knoedler\n",
      "Name: 21599, dtype: object 0.95639\n",
      "  justin joseph knoedler bo\n",
      "  \n",
      "\n",
      "* name    Chris Day\n",
      "Name: 4777, dtype: object        0.95648\n",
      "  christopher nicholas chri\n",
      "  \n",
      "\n",
      "* name    Tony Smith (footballer, born 1957)\n",
      "Name: 24116, dtype: object 0.95653\n",
      "  anthony tony smith born 2\n",
      "  \n",
      "\n",
      "* name    Ashley Prescott\n",
      "Name: 1690, dtype: object  0.95761\n",
      "  ashley prescott born 11 s\n",
      "  \n",
      "\n",
      "* name    Leslie Lea\n",
      "Name: 56785, dtype: object      0.95802\n",
      "  leslie lea born 5 october\n",
      "  \n",
      "\n",
      "* name    Tommy Anderson (footballer)\n",
      "Name: 8583, dtype: object 0.95818\n",
      "  thomas cowan tommy anders\n",
      "  \n",
      "==========================================================\n"
     ]
    }
   ],
   "source": [
    "inv_map = {v: k for k, v in map_index_to_word.iteritems()}\n",
    "visualize_document_clusters(wiki, tf_idf, centroids[2], cluster_assignment[2], 2, inv_map)"
   ]
  },
  {
   "cell_type": "code",
   "execution_count": 126,
   "metadata": {
    "collapsed": false
   },
   "outputs": [
    {
     "data": {
      "text/plain": [
       "u'she'"
      ]
     },
     "execution_count": 126,
     "metadata": {},
     "output_type": "execute_result"
    }
   ],
   "source": [
    "inv_map[547896]"
   ]
  },
  {
   "cell_type": "code",
   "execution_count": 165,
   "metadata": {
    "collapsed": false
   },
   "outputs": [
    {
     "data": {
      "text/plain": [
       "text    [anita, e, kunz, oc, born, 1956, is, a, canadi...\n",
       "dtype: object"
      ]
     },
     "execution_count": 165,
     "metadata": {},
     "output_type": "execute_result"
    }
   ],
   "source": [
    "wiki.ix[37198,['text']].str.split(' ')[:25]"
   ]
  },
  {
   "cell_type": "code",
   "execution_count": 161,
   "metadata": {
    "collapsed": false
   },
   "outputs": [
    {
     "data": {
      "text/html": [
       "<div>\n",
       "<table border=\"1\" class=\"dataframe\">\n",
       "  <thead>\n",
       "    <tr style=\"text-align: right;\">\n",
       "      <th></th>\n",
       "      <th>URI</th>\n",
       "      <th>name</th>\n",
       "      <th>text</th>\n",
       "    </tr>\n",
       "  </thead>\n",
       "  <tbody>\n",
       "    <tr>\n",
       "      <th>0</th>\n",
       "      <td>&lt;http://dbpedia.org/resource/Digby_Morrell&gt;</td>\n",
       "      <td>Digby Morrell</td>\n",
       "      <td>digby morrell born 10 october 1979 is a former...</td>\n",
       "    </tr>\n",
       "    <tr>\n",
       "      <th>1</th>\n",
       "      <td>&lt;http://dbpedia.org/resource/Alfred_J._Lewy&gt;</td>\n",
       "      <td>Alfred J. Lewy</td>\n",
       "      <td>alfred j lewy aka sandy lewy graduated from un...</td>\n",
       "    </tr>\n",
       "    <tr>\n",
       "      <th>2</th>\n",
       "      <td>&lt;http://dbpedia.org/resource/Harpdog_Brown&gt;</td>\n",
       "      <td>Harpdog Brown</td>\n",
       "      <td>harpdog brown is a singer and harmonica player...</td>\n",
       "    </tr>\n",
       "    <tr>\n",
       "      <th>3</th>\n",
       "      <td>&lt;http://dbpedia.org/resource/Franz_Rottensteiner&gt;</td>\n",
       "      <td>Franz Rottensteiner</td>\n",
       "      <td>franz rottensteiner born in waidmannsfeld lowe...</td>\n",
       "    </tr>\n",
       "    <tr>\n",
       "      <th>4</th>\n",
       "      <td>&lt;http://dbpedia.org/resource/G-Enka&gt;</td>\n",
       "      <td>G-Enka</td>\n",
       "      <td>henry krvits born 30 december 1974 in tallinn ...</td>\n",
       "    </tr>\n",
       "  </tbody>\n",
       "</table>\n",
       "</div>"
      ],
      "text/plain": [
       "                                                 URI                 name  \\\n",
       "0        <http://dbpedia.org/resource/Digby_Morrell>        Digby Morrell   \n",
       "1       <http://dbpedia.org/resource/Alfred_J._Lewy>       Alfred J. Lewy   \n",
       "2        <http://dbpedia.org/resource/Harpdog_Brown>        Harpdog Brown   \n",
       "3  <http://dbpedia.org/resource/Franz_Rottensteiner>  Franz Rottensteiner   \n",
       "4               <http://dbpedia.org/resource/G-Enka>               G-Enka   \n",
       "\n",
       "                                                text  \n",
       "0  digby morrell born 10 october 1979 is a former...  \n",
       "1  alfred j lewy aka sandy lewy graduated from un...  \n",
       "2  harpdog brown is a singer and harmonica player...  \n",
       "3  franz rottensteiner born in waidmannsfeld lowe...  \n",
       "4  henry krvits born 30 december 1974 in tallinn ...  "
      ]
     },
     "execution_count": 161,
     "metadata": {},
     "output_type": "execute_result"
    }
   ],
   "source": [
    "wiki.head()"
   ]
  },
  {
   "cell_type": "code",
   "execution_count": 176,
   "metadata": {
    "collapsed": false
   },
   "outputs": [
    {
     "name": "stdout",
     "output_type": "stream",
     "text": [
      "==========================================================\n",
      "Cluster 0     [547818 547693 547966 547827 547828]\n",
      "film:0.020 art:0.014 he:0.011 book:0.010 television:0.010 \n",
      "\n",
      "* name    Wilson McLean\n",
      "Name: 37815, dtype: object   0.97479\n",
      "  wilson mclean born 1937 i\n",
      "  \n",
      "\n",
      "* name    Anton Hecht\n",
      "Name: 934, dtype: object       0.97748\n",
      "  anton hecht is an english\n",
      "  \n",
      "\n",
      "* name    David Salle\n",
      "Name: 27250, dtype: object     0.97800\n",
      "  david salle born 1952 is \n",
      "  \n",
      "\n",
      "* name    Vipin Sharma\n",
      "Name: 32393, dtype: object    0.97805\n",
      "  vipin sharma is an indian\n",
      "  \n",
      "\n",
      "* name    Paul Swadel\n",
      "Name: 50025, dtype: object     0.97823\n",
      "  paul swadel is a new zeal\n",
      "  \n",
      "\n",
      "* name    Allan Stratton\n",
      "Name: 36172, dtype: object  0.97834\n",
      "  allan stratton born 1951 \n",
      "  \n",
      "\n",
      "* name    Bill Bennett (director)\n",
      "Name: 58179, dtype: object 0.97848\n",
      "  bill bennett born 1953 is\n",
      "  \n",
      "\n",
      "* name    Rafal Zielinski\n",
      "Name: 50978, dtype: object 0.97850\n",
      "  rafal zielinski born 1957\n",
      "  \n",
      "==========================================================\n",
      "Cluster 1     [547809 546442 547780 547608 547856]\n",
      "league:0.052 rugby:0.044 club:0.042 cup:0.042 season:0.041 \n",
      "\n",
      "* name    Chris Day\n",
      "Name: 4777, dtype: object        0.93220\n",
      "  christopher nicholas chri\n",
      "  \n",
      "\n",
      "* name    Gary Hooper\n",
      "Name: 21696, dtype: object     0.93481\n",
      "  gary hooper born 26 janua\n",
      "  \n",
      "\n",
      "* name    Tony Smith (footballer, born 1957)\n",
      "Name: 24116, dtype: object 0.93504\n",
      "  anthony tony smith born 2\n",
      "  \n",
      "\n",
      "* name    Jason Roberts (footballer)\n",
      "Name: 21848, dtype: object 0.93527\n",
      "  jason andre davis roberts\n",
      "  \n",
      "\n",
      "* name    Paul Robinson (footballer, born 1979)\n",
      "Name: 44323, dtype: object 0.93587\n",
      "  paul william robinson bor\n",
      "  \n",
      "\n",
      "* name    Alex Lawless\n",
      "Name: 2590, dtype: object     0.93732\n",
      "  alexander graham alex law\n",
      "  \n",
      "\n",
      "* name    Neil Grayson\n",
      "Name: 49686, dtype: object    0.93748\n",
      "  neil grayson born 1 novem\n",
      "  \n",
      "\n",
      "* name    Sol Campbell\n",
      "Name: 24258, dtype: object    0.93759\n",
      "  sulzeer jeremiah sol camp\n",
      "  \n",
      "==========================================================\n",
      "Cluster 2     [547384 547505 547644 547930 547928]\n",
      "championships:0.040 tour:0.037 championship:0.032 world:0.029 won:0.029 \n",
      "\n",
      "* name    Alessandra Aguilar\n",
      "Name: 37128, dtype: object 0.94505\n",
      "  alessandra aguilar born 1\n",
      "  \n",
      "\n",
      "* name    Heather Samuel\n",
      "Name: 15964, dtype: object  0.94529\n",
      "  heather barbara samuel bo\n",
      "  \n",
      "\n",
      "* name    Viola Kibiwot\n",
      "Name: 42971, dtype: object   0.94617\n",
      "  viola jelagat kibiwot bor\n",
      "  \n",
      "\n",
      "* name    Ayelech Worku\n",
      "Name: 576, dtype: object     0.94636\n",
      "  ayelech worku born june 1\n",
      "  \n",
      "\n",
      "* name    Morhad Amdouni\n",
      "Name: 16584, dtype: object  0.94763\n",
      "  morhad amdouni born 21 ja\n",
      "  \n",
      "\n",
      "* name    Krisztina Papp\n",
      "Name: 11632, dtype: object  0.94776\n",
      "  krisztina papp born 17 de\n",
      "  \n",
      "\n",
      "* name    Petra Lammert\n",
      "Name: 11862, dtype: object   0.94869\n",
      "  petra lammert born 3 marc\n",
      "  \n",
      "\n",
      "* name    Hasan Mahboob\n",
      "Name: 52716, dtype: object   0.94880\n",
      "  hasan mahboob ali born si\n",
      "  \n",
      "==========================================================\n",
      "Cluster 3     [547240 547809 547815 547771 547856]\n",
      "baseball:0.110 league:0.103 major:0.052 games:0.047 season:0.045 \n",
      "\n",
      "* name    Steve Springer\n",
      "Name: 28855, dtype: object  0.89300\n",
      "  steven michael springer b\n",
      "  \n",
      "\n",
      "* name    Dave Ford\n",
      "Name: 24066, dtype: object       0.89547\n",
      "  david alan ford born dece\n",
      "  \n",
      "\n",
      "* name    Todd Williams\n",
      "Name: 35358, dtype: object   0.89820\n",
      "  todd michael williams bor\n",
      "  \n",
      "\n",
      "* name    Justin Knoedler\n",
      "Name: 21599, dtype: object 0.90035\n",
      "  justin joseph knoedler bo\n",
      "  \n",
      "\n",
      "* name    Kevin Nicholson (baseball)\n",
      "Name: 41589, dtype: object 0.90643\n",
      "  kevin ronald nicholson bo\n",
      "  \n",
      "\n",
      "* name    James Baldwin (baseball)\n",
      "Name: 41946, dtype: object 0.90648\n",
      "  james j baldwin jr born j\n",
      "  \n",
      "\n",
      "* name    Joe Strong\n",
      "Name: 38698, dtype: object      0.90655\n",
      "  joseph benjamin strong bo\n",
      "  \n",
      "\n",
      "* name    Javier L%C3%B3pez (baseball)\n",
      "Name: 21295, dtype: object 0.90691\n",
      "  javier alfonso lpez born \n",
      "  \n",
      "==========================================================\n",
      "Cluster 4     [547784 547954 547824 547734 547790]\n",
      "research:0.038 university:0.035 professor:0.032 science:0.023 institute:0.019 \n",
      "\n",
      "* name    Lawrence W. Green\n",
      "Name: 25469, dtype: object 0.95957\n",
      "  lawrence w green is best \n",
      "  \n",
      "\n",
      "* name    Timothy Luke\n",
      "Name: 38460, dtype: object    0.96057\n",
      "  timothy w luke is univers\n",
      "  \n",
      "\n",
      "* name    Ren%C3%A9e Fox\n",
      "Name: 20746, dtype: object  0.96100\n",
      "  rene c fox a summa cum la\n",
      "  \n",
      "\n",
      "* name    Francis Gavin\n",
      "Name: 23149, dtype: object   0.96323\n",
      "  francis j gavin is first \n",
      "  \n",
      "\n",
      "* name    Catherine Hakim\n",
      "Name: 20582, dtype: object 0.96374\n",
      "  catherine hakim born 30 m\n",
      "  \n",
      "\n",
      "* name    Stephen Park Turner\n",
      "Name: 7709, dtype: object 0.96405\n",
      "  stephen turner is a resea\n",
      "  \n",
      "\n",
      "* name    Robert Bates (political scientist)\n",
      "Name: 2022, dtype: object 0.96489\n",
      "  robert hinrichs bates bor\n",
      "  \n",
      "\n",
      "* name    Georg von Krogh\n",
      "Name: 36809, dtype: object 0.96505\n",
      "  georg von krogh was born \n",
      "  \n",
      "==========================================================\n",
      "Cluster 5     [547651 547579 546878 547856 547904]\n",
      "football:0.076 coach:0.060 basketball:0.056 season:0.044 played:0.037 \n",
      "\n",
      "* name    Todd Curley\n",
      "Name: 22123, dtype: object     0.92731\n",
      "  todd curley born 14 janua\n",
      "  \n",
      "\n",
      "* name    Ashley Prescott\n",
      "Name: 1690, dtype: object  0.92992\n",
      "  ashley prescott born 11 s\n",
      "  \n",
      "\n",
      "* name    Pete Richardson\n",
      "Name: 31463, dtype: object 0.93204\n",
      "  pete richardson born octo\n",
      "  \n",
      "\n",
      "* name    Nathan Brown (Australian footballer born 1976)\n",
      "Name: 24625, dtype: object 0.93561\n",
      "  nathan daniel brown born \n",
      "  \n",
      "\n",
      "* name    Earl Spalding\n",
      "Name: 31711, dtype: object   0.93654\n",
      "  earl spalding born 11 mar\n",
      "  \n",
      "\n",
      "* name    Bud Grant\n",
      "Name: 19632, dtype: object       0.93766\n",
      "  harry peter bud grant jr \n",
      "  \n",
      "\n",
      "* name    Tyrone Wheatley\n",
      "Name: 46525, dtype: object 0.93885\n",
      "  tyrone anthony wheatley b\n",
      "  \n",
      "\n",
      "* name    Nick Salter\n",
      "Name: 36743, dtype: object     0.93916\n",
      "  nick salter born 30 july \n",
      "  \n",
      "==========================================================\n",
      "Cluster 6     [547896 547903 547205 547818 546321]\n",
      "she:0.138 her:0.089 actress:0.014 film:0.013 miss:0.012 \n",
      "\n",
      "* name    Lauren Royal\n",
      "Name: 35046, dtype: object    0.93445\n",
      "  lauren royal born march 3\n",
      "  \n",
      "\n",
      "* name    Barbara Hershey\n",
      "Name: 29009, dtype: object 0.93496\n",
      "  barbara hershey born barb\n",
      "  \n",
      "\n",
      "* name    Janet Jackson\n",
      "Name: 54350, dtype: object   0.93559\n",
      "  janet damita jo jackson b\n",
      "  \n",
      "\n",
      "* name    Jane Fonda\n",
      "Name: 11666, dtype: object      0.93759\n",
      "  jane fonda born lady jayn\n",
      "  \n",
      "\n",
      "* name    Janine Shepherd\n",
      "Name: 51930, dtype: object 0.93833\n",
      "  janine lee shepherd am bo\n",
      "  \n",
      "\n",
      "* name    Ellina Graypel\n",
      "Name: 12730, dtype: object  0.93847\n",
      "  ellina graypel born july \n",
      "  \n",
      "\n",
      "* name    Alexandra Potter\n",
      "Name: 28487, dtype: object 0.93858\n",
      "  alexandra potter born 197\n",
      "  \n",
      "\n",
      "* name    Melissa Hart (actress)\n",
      "Name: 51330, dtype: object 0.93913\n",
      "  melissa hart is an americ\n",
      "  \n",
      "==========================================================\n",
      "Cluster 7     [547870 547686 547627 547076 547826]\n",
      "music:0.057 album:0.040 band:0.035 orchestra:0.023 released:0.022 \n",
      "\n",
      "* name    Brenton Broadstock\n",
      "Name: 50957, dtype: object 0.95722\n",
      "  brenton broadstock ao bor\n",
      "  \n",
      "\n",
      "* name    Prince (musician)\n",
      "Name: 27180, dtype: object 0.96057\n",
      "  prince rogers nelson born\n",
      "  \n",
      "\n",
      "* name    Will.i.am\n",
      "Name: 20496, dtype: object       0.96066\n",
      "  william adams born march \n",
      "  \n",
      "\n",
      "* name    Tom Bancroft\n",
      "Name: 13651, dtype: object    0.96117\n",
      "  tom bancroft born 1967 lo\n",
      "  \n",
      "\n",
      "* name    Julian Knowles\n",
      "Name: 43208, dtype: object  0.96152\n",
      "  julian knowles is an aust\n",
      "  \n",
      "\n",
      "* name    Dan Siegel (musician)\n",
      "Name: 8184, dtype: object 0.96223\n",
      "  dan siegel born in seattl\n",
      "  \n",
      "\n",
      "* name    Tony Mills (musician)\n",
      "Name: 3517, dtype: object 0.96238\n",
      "  tony mills born 7 july 19\n",
      "  \n",
      "\n",
      "* name    Don Robertson (composer)\n",
      "Name: 10104, dtype: object 0.96249\n",
      "  don robertson born 1942 i\n",
      "  \n",
      "==========================================================\n",
      "Cluster 8     [546289 545222 546386 547856 547809]\n",
      "hockey:0.216 nhl:0.134 ice:0.065 season:0.053 league:0.047 \n",
      "\n",
      "* name    Gord Sherven\n",
      "Name: 16332, dtype: object    0.83598\n",
      "  gordon r sherven born aug\n",
      "  \n",
      "\n",
      "* name    Eric Brewer\n",
      "Name: 15441, dtype: object     0.83765\n",
      "  eric peter brewer born ap\n",
      "  \n",
      "\n",
      "* name    Stephen Johns (ice hockey)\n",
      "Name: 15618, dtype: object 0.84580\n",
      "  stephen johns born april \n",
      "  \n",
      "\n",
      "* name    Mike Stevens (ice hockey, born 1965)\n",
      "Name: 42552, dtype: object 0.85320\n",
      "  mike stevens born decembe\n",
      "  \n",
      "\n",
      "* name    Tanner Glass\n",
      "Name: 19643, dtype: object    0.85484\n",
      "  tanner glass born novembe\n",
      "  \n",
      "\n",
      "* name    Todd Strueby\n",
      "Name: 2791, dtype: object     0.86053\n",
      "  todd kenneth strueby born\n",
      "  \n",
      "\n",
      "* name    Steven King (ice hockey)\n",
      "Name: 31744, dtype: object 0.86129\n",
      "  steven andrew king born j\n",
      "  \n",
      "\n",
      "* name    Don Jackson (ice hockey)\n",
      "Name: 31629, dtype: object 0.86661\n",
      "  donald clinton jackson bo\n",
      "  \n",
      "==========================================================\n",
      "Cluster 9     [547729 547647 547563 547906 547685]\n",
      "party:0.028 election:0.025 minister:0.025 served:0.021 law:0.019 \n",
      "\n",
      "* name    Doug Lewis\n",
      "Name: 55055, dtype: object      0.96516\n",
      "  douglas grinslade doug le\n",
      "  \n",
      "\n",
      "* name    David Anderson (British Columbia politician)\n",
      "Name: 13508, dtype: object 0.96530\n",
      "  david a anderson pc oc bo\n",
      "  \n",
      "\n",
      "* name    Lucienne Robillard\n",
      "Name: 23368, dtype: object 0.96679\n",
      "  lucienne robillard pc bor\n",
      "  \n",
      "\n",
      "* name    Bob Menendez\n",
      "Name: 6507, dtype: object     0.96686\n",
      "  robert bob menendez born \n",
      "  \n",
      "\n",
      "* name    Mal Sandon\n",
      "Name: 10430, dtype: object      0.96706\n",
      "  malcolm john mal sandon b\n",
      "  \n",
      "\n",
      "* name    Roger Price (Australian politician)\n",
      "Name: 23541, dtype: object 0.96717\n",
      "  leo roger spurway price b\n",
      "  \n",
      "\n",
      "* name    Maureen Lyster\n",
      "Name: 4010, dtype: object   0.96734\n",
      "  maureen anne lyster born \n",
      "  \n",
      "\n",
      "* name    Don Bell\n",
      "Name: 50365, dtype: object        0.96739\n",
      "  donald h bell born march \n",
      "  \n",
      "==========================================================\n"
     ]
    }
   ],
   "source": [
    "k = 10\n",
    "visualize_document_clusters(wiki, tf_idf, centroids[k], cluster_assignment[k], k, inv_map)"
   ]
  },
  {
   "cell_type": "code",
   "execution_count": 177,
   "metadata": {
    "collapsed": false
   },
   "outputs": [
    {
     "data": {
      "text/plain": [
       "(59071, 547979)"
      ]
     },
     "execution_count": 177,
     "metadata": {},
     "output_type": "execute_result"
    }
   ],
   "source": [
    "tf_idf.shape"
   ]
  },
  {
   "cell_type": "code",
   "execution_count": 178,
   "metadata": {
    "collapsed": false
   },
   "outputs": [
    {
     "name": "stdout",
     "output_type": "stream",
     "text": [
      "==========================================================\n",
      "Cluster 0     [547685 547550 547479 546946 547146]\n",
      "law:0.077 district:0.048 court:0.046 republican:0.038 senate:0.038 \n",
      "==========================================================\n",
      "Cluster 1     [547784 547824 547734 547954 546266]\n",
      "research:0.054 professor:0.033 science:0.032 university:0.031 physics:0.029 \n",
      "==========================================================\n",
      "Cluster 2     [546289 545222 546386 547856 547809]\n",
      "hockey:0.216 nhl:0.134 ice:0.065 season:0.052 league:0.047 \n",
      "==========================================================\n",
      "Cluster 3     [547729 547647 547768 547207 547942]\n",
      "party:0.065 election:0.042 elected:0.031 parliament:0.027 member:0.023 \n",
      "==========================================================\n",
      "Cluster 4     [547775 547866 547621 547720 547677]\n",
      "board:0.025 president:0.023 chairman:0.022 business:0.022 executive:0.020 \n",
      "==========================================================\n",
      "Cluster 5     [547563 547092 546715 547729 547647]\n",
      "minister:0.160 prime:0.056 cabinet:0.044 party:0.043 election:0.042 \n",
      "==========================================================\n",
      "Cluster 6     [547954 547824 547736 547797 546959]\n",
      "university:0.044 professor:0.037 studies:0.035 history:0.034 philosophy:0.031 \n",
      "==========================================================\n",
      "Cluster 7     [547647 544342 546827 547729 546067]\n",
      "election:0.066 manitoba:0.058 liberal:0.051 party:0.045 riding:0.043 \n",
      "==========================================================\n",
      "Cluster 8     [546629 544547 547644 547227 542119]\n",
      "racing:0.095 formula:0.056 championship:0.054 race:0.052 poker:0.051 \n",
      "==========================================================\n",
      "Cluster 9     [547052 547243 545421 547383 547784]\n",
      "economics:0.146 economic:0.096 economist:0.053 policy:0.048 research:0.043 \n",
      "==========================================================\n",
      "Cluster 10     [547384 547083 544507 545452 547896]\n",
      "championships:0.075 olympics:0.050 marathon:0.048 metres:0.048 she:0.048 \n",
      "==========================================================\n",
      "Cluster 11     [547896 547903 546321 547205 547828]\n",
      "she:0.144 her:0.092 miss:0.016 actress:0.015 television:0.012 \n",
      "==========================================================\n",
      "Cluster 12     [547966 547732 547793 547957 547964]\n",
      "he:0.011 radio:0.009 show:0.009 that:0.009 his:0.009 \n",
      "==========================================================\n",
      "Cluster 13     [547240 547809 547815 547771 547856]\n",
      "baseball:0.109 league:0.104 major:0.052 games:0.047 season:0.045 \n",
      "==========================================================\n",
      "Cluster 14     [547693 547257 546739 547701 547789]\n",
      "art:0.144 museum:0.076 gallery:0.056 artist:0.033 arts:0.031 \n",
      "==========================================================\n",
      "Cluster 15     [547651 545219 545940 547856 547904]\n",
      "football:0.125 afl:0.060 nfl:0.051 season:0.049 played:0.045 \n",
      "==========================================================\n",
      "Cluster 16     [547870 547041 546895 547265 547076]\n",
      "music:0.097 jazz:0.061 piano:0.033 composer:0.029 orchestra:0.028 \n",
      "==========================================================\n",
      "Cluster 17     [547809 546442 547780 547608 547856]\n",
      "league:0.052 rugby:0.044 club:0.043 cup:0.042 season:0.042 \n",
      "==========================================================\n",
      "Cluster 18     [546766 547204 547827 547846 546904]\n",
      "poetry:0.055 novel:0.045 book:0.042 published:0.039 fiction:0.035 \n",
      "==========================================================\n",
      "Cluster 19     [547818 547427 547546 547465 547828]\n",
      "film:0.095 theatre:0.038 films:0.035 directed:0.029 television:0.028 \n",
      "==========================================================\n",
      "Cluster 20     [547686 547627 547870 547826 547496]\n",
      "album:0.064 band:0.049 music:0.037 released:0.033 song:0.025 \n",
      "==========================================================\n",
      "Cluster 21     [545806 547122 547159 547137 545551]\n",
      "bishop:0.075 air:0.066 force:0.048 church:0.047 command:0.045 \n",
      "==========================================================\n",
      "Cluster 22     [547076 547106 546649 545852 547870]\n",
      "orchestra:0.146 opera:0.116 symphony:0.106 conductor:0.077 music:0.064 \n",
      "==========================================================\n",
      "Cluster 23     [546878 547579 545676 547682 547856]\n",
      "basketball:0.120 coach:0.105 nba:0.065 head:0.042 season:0.040 \n",
      "==========================================================\n",
      "Cluster 24     [547505 544503 545738 547299 544644]\n",
      "tour:0.256 pga:0.213 golf:0.142 open:0.073 golfer:0.062 \n",
      "==========================================================\n"
     ]
    }
   ],
   "source": [
    "visualize_document_clusters(wiki, tf_idf, centroids[25], cluster_assignment[25], 25,\n",
    "                            inv_map, display_content=False) "
   ]
  },
  {
   "cell_type": "code",
   "execution_count": null,
   "metadata": {
    "collapsed": true
   },
   "outputs": [],
   "source": []
  }
 ],
 "metadata": {
  "kernelspec": {
   "display_name": "Python 2",
   "language": "python",
   "name": "python2"
  },
  "language_info": {
   "codemirror_mode": {
    "name": "ipython",
    "version": 2
   },
   "file_extension": ".py",
   "mimetype": "text/x-python",
   "name": "python",
   "nbconvert_exporter": "python",
   "pygments_lexer": "ipython2",
   "version": "2.7.10"
  }
 },
 "nbformat": 4,
 "nbformat_minor": 0
}
